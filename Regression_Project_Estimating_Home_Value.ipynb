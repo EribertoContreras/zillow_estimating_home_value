{
 "cells": [
  {
   "cell_type": "markdown",
   "id": "c3b96c3a",
   "metadata": {},
   "source": [
    "# Regression Project Estimating Home Value\n",
    "- by Eriberto Contreras"
   ]
  },
  {
   "cell_type": "markdown",
   "id": "6e5628c7",
   "metadata": {},
   "source": [
    "***"
   ]
  },
  {
   "cell_type": "markdown",
   "id": "aef668dd",
   "metadata": {},
   "source": [
    "# Executive summary"
   ]
  },
  {
   "cell_type": "markdown",
   "id": "3f2fab5a",
   "metadata": {},
   "source": [
    "***"
   ]
  },
  {
   "cell_type": "markdown",
   "id": "c9d7ba6f",
   "metadata": {},
   "source": [
    "# Scenario\n",
    "You are a junior data scientist on the Zillow data science team and recieve the following email in your inbox:\n",
    "\n",
    "We want to be able to predict the property tax assessed values ('taxvaluedollarcnt') of Single Family Properties that had a transaction during 2017.\n",
    "\n",
    "We have a model already, but we are hoping your insights can help us improve it. I need recommendations on a way to make a better model. Maybe you will create a new feature out of existing ones that works better, try a non-linear regression algorithm, or try to create a different model for each county. Whatever you find that works (or doesn't work) will be useful. Given you have just joined our team, we are excited to see your outside perspective.\n",
    "\n",
    "One last thing, Zach lost the email that told us where these properties were located. Ugh, Zach :-/. Because property taxes are assessed at the county level, we would like to know what states and counties these are located in.\n",
    "\n",
    "-- The Zillow Data Science Team\n",
    "\n"
   ]
  },
  {
   "cell_type": "markdown",
   "id": "4741fa66",
   "metadata": {},
   "source": [
    "# Good Day Zillow team\n",
    "- I (Eriberto Contreras(junior data scientist)) have created a presentation and a Machine Learning model to predict 2017 taxvaluedollarcnt prices."
   ]
  },
  {
   "cell_type": "markdown",
   "id": "398ce525",
   "metadata": {},
   "source": [
    "# Goals \n",
    "- Construct an ML Regression model that predict propery tax assessed values ('taxvaluedollarcnt') of Single Family Properties using attributes of the properties.\n",
    "\n",
    "- Find the key drivers of property value for single family properties.\n",
    "\n",
    "- Use the 2017 Zillow data set by combining 2017 prediction, properties and property use type folders from the original data set.\n",
    "\n",
    "- Make recommendations on what works or doesn't work in prediction these homes' values.\n",
    "\n",
    "- create a predictive model that is better then the baseline model so we can better predict prices for the year"
   ]
  },
  {
   "cell_type": "markdown",
   "id": "b082ec4e",
   "metadata": {},
   "source": [
    "# Hypothesis\n",
    "- there is no linear correlation between the calculatedfinishedsquarefeet of a home and taxvaluedollarcnt\n",
    "\n",
    "- there is no linear correlation between the bathroomcnt of a home and taxvaluedollarcnt\n",
    "\n",
    "- there is no linear correlation between the bedroomcnt of a home and taxvaluedollarcnt\n",
    "\n"
   ]
  },
  {
   "cell_type": "markdown",
   "id": "57eb94e0",
   "metadata": {},
   "source": [
    "# Key Takeaways\n",
    "- Major factors determining property price are:\n",
    "- calculatedfinishedsquarefeet\n",
    "- bathroomcnt\n",
    "- bathroomcnt \n",
    "- A LinnearRegression model is the top predictor for this sample of data."
   ]
  },
  {
   "cell_type": "markdown",
   "id": "7a16dc26",
   "metadata": {},
   "source": [
    "# Plan\n",
    "- Acquire Data\n",
    "- Clean and Prep the Data\n",
    "- Explore the features of the Zillow data\n",
    "- Evaluate Data\n",
    "- Test Data"
   ]
  },
  {
   "cell_type": "markdown",
   "id": "3192e4b1",
   "metadata": {},
   "source": [
    "# Conclusion\n",
    "\n",
    "### Major drivers of the house prices:\n",
    "    \n",
    "    calculatedfinishedsquarefeet,bedroomcnt, & bathroomcnt sit at the top as far as drivers of churn.It is a good idea to coniseder that the counties of ventura, Los Angeles, and Orange all have a wide range of homes that can be estimated up to 3 million dollars.The more bedrooms, bathrooms and living squarefeet a home has, the bigger the impact it will have on its price.\n",
    "\n",
    "\n",
    "### Recommendations for the future:\n",
    "    \n",
    "    My recomendation to the zillow team, for future referance and for more accurate predictions; If I can be given more time to explore the data further so that we may be able to improve our predictions. By identifying more factors that drive home prices, we will increase our likelyhood that our predcition model will be more accurate. \n",
    "    \n"
   ]
  },
  {
   "cell_type": "markdown",
   "id": "e3f02656",
   "metadata": {},
   "source": [
    "# Acquiring the Data"
   ]
  },
  {
   "cell_type": "markdown",
   "id": "4fe3ea40",
   "metadata": {},
   "source": [
    "- Zillow Data was obtained from our friends at CodeUp. Information on how to acquire the data can be found on this [link](https://github.com/EribertoContreras/zillow_estimating_home_value/blob/main/acquire.py), please ensure that you have the correct credentials in order to access the data and that they are saved in an env.py file.\n",
    "\n",
    "\n",
    "\n",
    "\n",
    "\n",
    "\n",
    "\n",
    "\n",
    "\n",
    "\n",
    "\n",
    "\n",
    "\n"
   ]
  },
  {
   "cell_type": "markdown",
   "id": "eb50fe80",
   "metadata": {},
   "source": [
    "# Imports required to run data correctly"
   ]
  },
  {
   "cell_type": "code",
   "execution_count": 1,
   "id": "961aee5d",
   "metadata": {},
   "outputs": [],
   "source": [
    "import math\n",
    "import numpy as np\n",
    "import seaborn as sns\n",
    "import scipy.stats as stats\n",
    "import pandas as pd\n",
    "import matplotlib.pyplot as plt\n",
    "import env\n",
    "from pydataset import data\n",
    "from scipy.stats import pearsonr, spearmanr\n",
    "import scipy\n",
    "import os\n",
    "import sklearn.preprocessing\n",
    "from sklearn.model_selection import train_test_split\n",
    "from sklearn.neighbors import KNeighborsClassifier\n",
    "from sklearn.preprocessing import MinMaxScaler, StandardScaler, RobustScaler, QuantileTransformer\n",
    "from sklearn.metrics import explained_variance_score\n",
    "import statsmodels.api as sm\n",
    "# custom code made and stored in a py file\n",
    "import acquire\n",
    "import prepare\n",
    "# needed for modeling\n",
    "from sklearn.metrics import mean_squared_error\n",
    "from sklearn.linear_model import LinearRegression, LassoLars, TweedieRegressor\n",
    "from sklearn.preprocessing import PolynomialFeatures"
   ]
  },
  {
   "cell_type": "markdown",
   "id": "5c936da4",
   "metadata": {},
   "source": [
    "***"
   ]
  },
  {
   "cell_type": "markdown",
   "id": "1ecbc389",
   "metadata": {},
   "source": [
    "# Original Data summary"
   ]
  },
  {
   "cell_type": "code",
   "execution_count": 2,
   "id": "2a1bdb6b",
   "metadata": {},
   "outputs": [
    {
     "name": "stdout",
     "output_type": "stream",
     "text": [
      "<class 'pandas.core.frame.DataFrame'>\n",
      "RangeIndex: 52442 entries, 0 to 52441\n",
      "Data columns (total 63 columns):\n",
      " #   Column                        Non-Null Count  Dtype  \n",
      "---  ------                        --------------  -----  \n",
      " 0   propertylandusetypeid         52442 non-null  float64\n",
      " 1   parcelid                      52442 non-null  int64  \n",
      " 2   id                            52442 non-null  int64  \n",
      " 3   airconditioningtypeid         13638 non-null  float64\n",
      " 4   architecturalstyletypeid      70 non-null     float64\n",
      " 5   basementsqft                  47 non-null     float64\n",
      " 6   bathroomcnt                   52442 non-null  float64\n",
      " 7   bedroomcnt                    52442 non-null  float64\n",
      " 8   buildingclasstypeid           0 non-null      float64\n",
      " 9   buildingqualitytypeid         33741 non-null  float64\n",
      " 10  calculatedbathnbr             52305 non-null  float64\n",
      " 11  decktypeid                    389 non-null    float64\n",
      " 12  finishedfloor1squarefeet      4381 non-null   float64\n",
      " 13  calculatedfinishedsquarefeet  52360 non-null  float64\n",
      " 14  finishedsquarefeet12          52195 non-null  float64\n",
      " 15  finishedsquarefeet13          0 non-null      float64\n",
      " 16  finishedsquarefeet15          0 non-null      float64\n",
      " 17  finishedsquarefeet50          4381 non-null   float64\n",
      " 18  finishedsquarefeet6           165 non-null    float64\n",
      " 19  fips                          52442 non-null  float64\n",
      " 20  fireplacecnt                  7243 non-null   float64\n",
      " 21  fullbathcnt                   52305 non-null  float64\n",
      " 22  garagecarcnt                  18015 non-null  float64\n",
      " 23  garagetotalsqft               18015 non-null  float64\n",
      " 24  hashottuborspa                1515 non-null   float64\n",
      " 25  heatingorsystemtypeid         33936 non-null  float64\n",
      " 26  latitude                      52442 non-null  float64\n",
      " 27  longitude                     52442 non-null  float64\n",
      " 28  lotsizesquarefeet             52073 non-null  float64\n",
      " 29  poolcnt                       11096 non-null  float64\n",
      " 30  poolsizesum                   867 non-null    float64\n",
      " 31  pooltypeid10                  444 non-null    float64\n",
      " 32  pooltypeid2                   1071 non-null   float64\n",
      " 33  pooltypeid7                   10009 non-null  float64\n",
      " 34  propertycountylandusecode     52442 non-null  object \n",
      " 35  propertyzoningdesc            33849 non-null  object \n",
      " 36  rawcensustractandblock        52442 non-null  float64\n",
      " 37  regionidcity                  51405 non-null  float64\n",
      " 38  regionidcounty                52442 non-null  float64\n",
      " 39  regionidneighborhood          19033 non-null  float64\n",
      " 40  regionidzip                   52416 non-null  float64\n",
      " 41  roomcnt                       52442 non-null  float64\n",
      " 42  storytypeid                   47 non-null     float64\n",
      " 43  threequarterbathnbr           6724 non-null   float64\n",
      " 44  typeconstructiontypeid        76 non-null     float64\n",
      " 45  unitcnt                       33848 non-null  float64\n",
      " 46  yardbuildingsqft17            1937 non-null   float64\n",
      " 47  yardbuildingsqft26            63 non-null     float64\n",
      " 48  yearbuilt                     52326 non-null  float64\n",
      " 49  numberofstories               14561 non-null  float64\n",
      " 50  fireplaceflag                 81 non-null     float64\n",
      " 51  structuretaxvaluedollarcnt    52358 non-null  float64\n",
      " 52  taxvaluedollarcnt             52441 non-null  float64\n",
      " 53  assessmentyear                52442 non-null  float64\n",
      " 54  landtaxvaluedollarcnt         52441 non-null  float64\n",
      " 55  taxamount                     52438 non-null  float64\n",
      " 56  taxdelinquencyflag            2079 non-null   object \n",
      " 57  taxdelinquencyyear            2079 non-null   float64\n",
      " 58  censustractandblock           52319 non-null  float64\n",
      " 59  id.1                          52442 non-null  int64  \n",
      " 60  logerror                      52442 non-null  float64\n",
      " 61  transactiondate               52442 non-null  object \n",
      " 62  propertylandusedesc           52442 non-null  object \n",
      "dtypes: float64(55), int64(3), object(5)\n",
      "memory usage: 25.2+ MB\n"
     ]
    }
   ],
   "source": [
    "# retrive original data set from aquire.py \n",
    "df = acquire.get_zillow_data()\n",
    "df.info()"
   ]
  },
  {
   "cell_type": "markdown",
   "id": "07be3a73",
   "metadata": {},
   "source": [
    "***"
   ]
  },
  {
   "cell_type": "markdown",
   "id": "7992207d",
   "metadata": {},
   "source": [
    "## What locations are we working with?"
   ]
  },
  {
   "cell_type": "code",
   "execution_count": 3,
   "id": "2bb36973",
   "metadata": {},
   "outputs": [
    {
     "data": {
      "image/png": "[encoded data removed]",
      "text/plain": [
       "<Figure size 432x288 with 1 Axes>"
      ]
     },
     "metadata": {
      "needs_background": "light"
     },
     "output_type": "display_data"
    }
   ],
   "source": [
    "prepare.county_map()"
   ]
  },
  {
   "cell_type": "markdown",
   "id": "330a1753",
   "metadata": {},
   "source": [
    "- Fips dictionary [fips](https://www.nrcs.usda.gov/wps/portal/nrcs/detail/ca/home/?cid=nrcs143_013697)\n",
    "- 6037.0 = Los Angeles,CA\n",
    "- 6059.0 =      Orange,CA\n",
    "- 6111.0 =     Ventura,CA"
   ]
  },
  {
   "cell_type": "markdown",
   "id": "15a69b03",
   "metadata": {},
   "source": [
    "***"
   ]
  },
  {
   "cell_type": "markdown",
   "id": "b1c245fd",
   "metadata": {},
   "source": [
    "## What do information can we comprehend from the visuals?"
   ]
  },
  {
   "cell_type": "code",
   "execution_count": 4,
   "id": "074da220",
   "metadata": {
    "scrolled": false
   },
   "outputs": [
    {
     "data": {
      "image/png": "[encoded data removed]",
      "text/plain": [
       "<Figure size 1080x432 with 1 Axes>"
      ]
     },
     "metadata": {
      "needs_background": "light"
     },
     "output_type": "display_data"
    },
    {
     "data": {
      "image/png": "[encoded data removed]",
      "text/plain": [
       "<Figure size 1080x432 with 1 Axes>"
      ]
     },
     "metadata": {
      "needs_background": "light"
     },
     "output_type": "display_data"
    },
    {
     "data": {
      "image/png": "[encoded data removed]",
      "text/plain": [
       "<Figure size 1080x432 with 1 Axes>"
      ]
     },
     "metadata": {
      "needs_background": "light"
     },
     "output_type": "display_data"
    },
    {
     "data": {
      "image/png": "[encoded data removed]",
      "text/plain": [
       "<Figure size 1080x432 with 1 Axes>"
      ]
     },
     "metadata": {
      "needs_background": "light"
     },
     "output_type": "display_data"
    },
    {
     "data": {
      "image/png": "[encoded data removed]",
      "text/plain": [
       "<Figure size 1080x432 with 1 Axes>"
      ]
     },
     "metadata": {
      "needs_background": "light"
     },
     "output_type": "display_data"
    }
   ],
   "source": [
    "prepare.plots_unclean()"
   ]
  },
  {
   "cell_type": "markdown",
   "id": "b4babded",
   "metadata": {},
   "source": [
    "### Takeaways"
   ]
  },
  {
   "cell_type": "markdown",
   "id": "952e012a",
   "metadata": {},
   "source": [
    "- We started with 52442 rows of data & 63 columns.\n",
    "- Homes near the coast line & in the mountain side seem to range over $900k.\n",
    "- there  seems to be a lot of na values\n",
    "- I will be removing columns that have an na count over 1000\n",
    "- I will be keeping calculatefinishedsquarefeet and removing anything other columns that catogorize sq ft.\n",
    "- I Will be keeping fips and removing anything else that has to do with ZIP Code and region(fips is the county number)\n",
    "- I will be removing lot sizes, mainly to focus on our calculatefinishedsquarefeet\n",
    "- I will be removing garages to focus more on the data that is over %50 complete\n",
    "- I will be getting rid of any id types so that i can work on valid numerical data that can corrilate with the target variable\n",
    "- We will be focusing on bathroomcnt, bedroomcnt, calculatedfinishedsquarefeet, fips,taxvaluedollarcnt, because those seem to be the top criticals factors that influance home values. [Factors that influance home price](https://www.opendoor.com/w/blog/factors-that-influence-home-value)\n"
   ]
  },
  {
   "cell_type": "markdown",
   "id": "73ae8a58",
   "metadata": {},
   "source": [
    "***"
   ]
  },
  {
   "cell_type": "markdown",
   "id": "7d2bdd7d",
   "metadata": {
    "scrolled": true
   },
   "source": [
    "# Preparing The Data"
   ]
  },
  {
   "cell_type": "markdown",
   "id": "ad8fa6b5",
   "metadata": {},
   "source": [
    "[Github.Cleaning_data_code](https://github.com/EribertoContreras/zillow_estimating_home_value/blob/main/prepare.py)"
   ]
  },
  {
   "cell_type": "code",
   "execution_count": 5,
   "id": "51653dc5",
   "metadata": {},
   "outputs": [
    {
     "data": {
      "text/html": [
       "<div>\n",
       "<style scoped>\n",
       "    .dataframe tbody tr th:only-of-type {\n",
       "        vertical-align: middle;\n",
       "    }\n",
       "\n",
       "    .dataframe tbody tr th {\n",
       "        vertical-align: top;\n",
       "    }\n",
       "\n",
       "    .dataframe thead th {\n",
       "        text-align: right;\n",
       "    }\n",
       "</style>\n",
       "<table border=\"1\" class=\"dataframe\">\n",
       "  <thead>\n",
       "    <tr style=\"text-align: right;\">\n",
       "      <th></th>\n",
       "      <th>bathroomcnt</th>\n",
       "      <th>bedroomcnt</th>\n",
       "      <th>calculatedfinishedsquarefeet</th>\n",
       "      <th>fips</th>\n",
       "      <th>latitude</th>\n",
       "      <th>longitude</th>\n",
       "      <th>regionidcounty</th>\n",
       "      <th>regionidzip</th>\n",
       "      <th>yearbuilt</th>\n",
       "      <th>taxvaluedollarcnt</th>\n",
       "    </tr>\n",
       "  </thead>\n",
       "  <tbody>\n",
       "    <tr>\n",
       "      <th>1</th>\n",
       "      <td>1.0</td>\n",
       "      <td>2.0</td>\n",
       "      <td>1465.0</td>\n",
       "      <td>6111.0</td>\n",
       "      <td>34449266.0</td>\n",
       "      <td>-119281531.0</td>\n",
       "      <td>2061.0</td>\n",
       "      <td>97099.0</td>\n",
       "      <td>1967.0</td>\n",
       "      <td>464000.0</td>\n",
       "    </tr>\n",
       "    <tr>\n",
       "      <th>2</th>\n",
       "      <td>2.0</td>\n",
       "      <td>3.0</td>\n",
       "      <td>1243.0</td>\n",
       "      <td>6059.0</td>\n",
       "      <td>33886168.0</td>\n",
       "      <td>-117823170.0</td>\n",
       "      <td>1286.0</td>\n",
       "      <td>97078.0</td>\n",
       "      <td>1962.0</td>\n",
       "      <td>564778.0</td>\n",
       "    </tr>\n",
       "    <tr>\n",
       "      <th>3</th>\n",
       "      <td>3.0</td>\n",
       "      <td>4.0</td>\n",
       "      <td>2376.0</td>\n",
       "      <td>6037.0</td>\n",
       "      <td>34245180.0</td>\n",
       "      <td>-118240722.0</td>\n",
       "      <td>3101.0</td>\n",
       "      <td>96330.0</td>\n",
       "      <td>1970.0</td>\n",
       "      <td>145143.0</td>\n",
       "    </tr>\n",
       "    <tr>\n",
       "      <th>4</th>\n",
       "      <td>3.0</td>\n",
       "      <td>4.0</td>\n",
       "      <td>2962.0</td>\n",
       "      <td>6037.0</td>\n",
       "      <td>34145202.0</td>\n",
       "      <td>-118179824.0</td>\n",
       "      <td>3101.0</td>\n",
       "      <td>96293.0</td>\n",
       "      <td>1950.0</td>\n",
       "      <td>773303.0</td>\n",
       "    </tr>\n",
       "    <tr>\n",
       "      <th>5</th>\n",
       "      <td>1.0</td>\n",
       "      <td>2.0</td>\n",
       "      <td>738.0</td>\n",
       "      <td>6037.0</td>\n",
       "      <td>34149214.0</td>\n",
       "      <td>-118239357.0</td>\n",
       "      <td>3101.0</td>\n",
       "      <td>96325.0</td>\n",
       "      <td>1922.0</td>\n",
       "      <td>218552.0</td>\n",
       "    </tr>\n",
       "    <tr>\n",
       "      <th>...</th>\n",
       "      <td>...</td>\n",
       "      <td>...</td>\n",
       "      <td>...</td>\n",
       "      <td>...</td>\n",
       "      <td>...</td>\n",
       "      <td>...</td>\n",
       "      <td>...</td>\n",
       "      <td>...</td>\n",
       "      <td>...</td>\n",
       "      <td>...</td>\n",
       "    </tr>\n",
       "    <tr>\n",
       "      <th>52437</th>\n",
       "      <td>2.0</td>\n",
       "      <td>2.0</td>\n",
       "      <td>1286.0</td>\n",
       "      <td>6037.0</td>\n",
       "      <td>34245368.0</td>\n",
       "      <td>-118282383.0</td>\n",
       "      <td>3101.0</td>\n",
       "      <td>96284.0</td>\n",
       "      <td>1940.0</td>\n",
       "      <td>354621.0</td>\n",
       "    </tr>\n",
       "    <tr>\n",
       "      <th>52438</th>\n",
       "      <td>2.0</td>\n",
       "      <td>4.0</td>\n",
       "      <td>1612.0</td>\n",
       "      <td>6111.0</td>\n",
       "      <td>34300140.0</td>\n",
       "      <td>-118706327.0</td>\n",
       "      <td>2061.0</td>\n",
       "      <td>97116.0</td>\n",
       "      <td>1964.0</td>\n",
       "      <td>67205.0</td>\n",
       "    </tr>\n",
       "    <tr>\n",
       "      <th>52439</th>\n",
       "      <td>1.0</td>\n",
       "      <td>3.0</td>\n",
       "      <td>1032.0</td>\n",
       "      <td>6037.0</td>\n",
       "      <td>34040895.0</td>\n",
       "      <td>-118038169.0</td>\n",
       "      <td>3101.0</td>\n",
       "      <td>96480.0</td>\n",
       "      <td>1954.0</td>\n",
       "      <td>49546.0</td>\n",
       "    </tr>\n",
       "    <tr>\n",
       "      <th>52440</th>\n",
       "      <td>2.0</td>\n",
       "      <td>3.0</td>\n",
       "      <td>1762.0</td>\n",
       "      <td>6037.0</td>\n",
       "      <td>33937685.0</td>\n",
       "      <td>-117996709.0</td>\n",
       "      <td>3101.0</td>\n",
       "      <td>96171.0</td>\n",
       "      <td>1955.0</td>\n",
       "      <td>522000.0</td>\n",
       "    </tr>\n",
       "    <tr>\n",
       "      <th>52441</th>\n",
       "      <td>2.0</td>\n",
       "      <td>3.0</td>\n",
       "      <td>1050.0</td>\n",
       "      <td>6037.0</td>\n",
       "      <td>34010864.0</td>\n",
       "      <td>-117900894.0</td>\n",
       "      <td>3101.0</td>\n",
       "      <td>96488.0</td>\n",
       "      <td>1960.0</td>\n",
       "      <td>259334.0</td>\n",
       "    </tr>\n",
       "  </tbody>\n",
       "</table>\n",
       "<p>43301 rows × 10 columns</p>\n",
       "</div>"
      ],
      "text/plain": [
       "       bathroomcnt  bedroomcnt  calculatedfinishedsquarefeet    fips  \\\n",
       "1              1.0         2.0                        1465.0  6111.0   \n",
       "2              2.0         3.0                        1243.0  6059.0   \n",
       "3              3.0         4.0                        2376.0  6037.0   \n",
       "4              3.0         4.0                        2962.0  6037.0   \n",
       "5              1.0         2.0                         738.0  6037.0   \n",
       "...            ...         ...                           ...     ...   \n",
       "52437          2.0         2.0                        1286.0  6037.0   \n",
       "52438          2.0         4.0                        1612.0  6111.0   \n",
       "52439          1.0         3.0                        1032.0  6037.0   \n",
       "52440          2.0         3.0                        1762.0  6037.0   \n",
       "52441          2.0         3.0                        1050.0  6037.0   \n",
       "\n",
       "         latitude    longitude  regionidcounty  regionidzip  yearbuilt  \\\n",
       "1      34449266.0 -119281531.0          2061.0      97099.0     1967.0   \n",
       "2      33886168.0 -117823170.0          1286.0      97078.0     1962.0   \n",
       "3      34245180.0 -118240722.0          3101.0      96330.0     1970.0   \n",
       "4      34145202.0 -118179824.0          3101.0      96293.0     1950.0   \n",
       "5      34149214.0 -118239357.0          3101.0      96325.0     1922.0   \n",
       "...           ...          ...             ...          ...        ...   \n",
       "52437  34245368.0 -118282383.0          3101.0      96284.0     1940.0   \n",
       "52438  34300140.0 -118706327.0          2061.0      97116.0     1964.0   \n",
       "52439  34040895.0 -118038169.0          3101.0      96480.0     1954.0   \n",
       "52440  33937685.0 -117996709.0          3101.0      96171.0     1955.0   \n",
       "52441  34010864.0 -117900894.0          3101.0      96488.0     1960.0   \n",
       "\n",
       "       taxvaluedollarcnt  \n",
       "1               464000.0  \n",
       "2               564778.0  \n",
       "3               145143.0  \n",
       "4               773303.0  \n",
       "5               218552.0  \n",
       "...                  ...  \n",
       "52437           354621.0  \n",
       "52438            67205.0  \n",
       "52439            49546.0  \n",
       "52440           522000.0  \n",
       "52441           259334.0  \n",
       "\n",
       "[43301 rows x 10 columns]"
      ]
     },
     "execution_count": 5,
     "metadata": {},
     "output_type": "execute_result"
    }
   ],
   "source": [
    "df = prepare.clean_zillow_data(df)\n",
    "df"
   ]
  },
  {
   "cell_type": "markdown",
   "id": "821719b0",
   "metadata": {},
   "source": [
    "# How does the data difer after removing the outliers"
   ]
  },
  {
   "cell_type": "code",
   "execution_count": 6,
   "id": "6a915dce",
   "metadata": {
    "scrolled": false
   },
   "outputs": [
    {
     "data": {
      "image/png": "[encoded data removed]",
      "text/plain": [
       "<Figure size 1080x432 with 1 Axes>"
      ]
     },
     "metadata": {
      "needs_background": "light"
     },
     "output_type": "display_data"
    },
    {
     "data": {
      "image/png": "[encoded data removed]",
      "text/plain": [
       "<Figure size 1080x432 with 1 Axes>"
      ]
     },
     "metadata": {
      "needs_background": "light"
     },
     "output_type": "display_data"
    },
    {
     "data": {
      "image/png": "[encoded data removed]",
      "text/plain": [
       "<Figure size 1080x432 with 1 Axes>"
      ]
     },
     "metadata": {
      "needs_background": "light"
     },
     "output_type": "display_data"
    },
    {
     "data": {
      "image/png": "[encoded data removed]",
      "text/plain": [
       "<Figure size 1080x432 with 1 Axes>"
      ]
     },
     "metadata": {
      "needs_background": "light"
     },
     "output_type": "display_data"
    },
    {
     "data": {
      "image/png": "[encoded data removed]",
      "text/plain": [
       "<Figure size 1080x432 with 1 Axes>"
      ]
     },
     "metadata": {
      "needs_background": "light"
     },
     "output_type": "display_data"
    }
   ],
   "source": [
    "prepare.box_plots_clean_data(df)"
   ]
  },
  {
   "cell_type": "markdown",
   "id": "08f3eebb",
   "metadata": {},
   "source": [
    "### outliers removed\n",
    "- bedroom count 0\n",
    "- bathroom count 0\n",
    "- calculatedfinishedsquarefeet less than 500\n",
    "- bedroomcnt greater than 6\n",
    "- bedroomcnt count less than 1\n",
    "- regionzip equal to 0 \n",
    "- bathroomcnt greater than 4\n",
    "- yearbuilt less than 1899\n",
    "- calculatedfinishedsquarefeet greater than 3050\n",
    "- taxvaluedollarcnt greater than 1,700,000\n",
    "- bathroomcnt less than or equal  1\n",
    "- yearbuilt less than 1919\n",
    "- yearbuilt greater than or equal to 2015\n",
    "    "
   ]
  },
  {
   "cell_type": "markdown",
   "id": "7ace3bce",
   "metadata": {},
   "source": [
    "*** "
   ]
  },
  {
   "cell_type": "markdown",
   "id": "f57a7ba3",
   "metadata": {},
   "source": [
    "# DATA EXPLORATION\n",
    "- Working on Our Most Valuable Payers that affect TaxValueDollarCount"
   ]
  },
  {
   "cell_type": "markdown",
   "id": "56f963bb",
   "metadata": {},
   "source": [
    "### Spliting my data into train, validate, and test"
   ]
  },
  {
   "cell_type": "code",
   "execution_count": 7,
   "id": "68377e70",
   "metadata": {},
   "outputs": [],
   "source": [
    "train, validate, test = prepare.split_zillow_data(df)"
   ]
  },
  {
   "cell_type": "code",
   "execution_count": 8,
   "id": "ff6a98d4",
   "metadata": {},
   "outputs": [
    {
     "data": {
      "image/png": "[encoded data removed]",
      "text/plain": [
       "<Figure size 720x576 with 4 Axes>"
      ]
     },
     "metadata": {
      "needs_background": "light"
     },
     "output_type": "display_data"
    }
   ],
   "source": [
    "prepare.figure(df)"
   ]
  },
  {
   "cell_type": "code",
   "execution_count": 9,
   "id": "dfddd175",
   "metadata": {},
   "outputs": [
    {
     "data": {
      "text/html": [
       "<div>\n",
       "<style scoped>\n",
       "    .dataframe tbody tr th:only-of-type {\n",
       "        vertical-align: middle;\n",
       "    }\n",
       "\n",
       "    .dataframe tbody tr th {\n",
       "        vertical-align: top;\n",
       "    }\n",
       "\n",
       "    .dataframe thead th {\n",
       "        text-align: right;\n",
       "    }\n",
       "</style>\n",
       "<table border=\"1\" class=\"dataframe\">\n",
       "  <thead>\n",
       "    <tr style=\"text-align: right;\">\n",
       "      <th></th>\n",
       "      <th>bathroomcnt</th>\n",
       "      <th>bedroomcnt</th>\n",
       "      <th>calculatedfinishedsquarefeet</th>\n",
       "      <th>fips</th>\n",
       "      <th>latitude</th>\n",
       "      <th>longitude</th>\n",
       "      <th>regionidcounty</th>\n",
       "      <th>regionidzip</th>\n",
       "      <th>yearbuilt</th>\n",
       "      <th>taxvaluedollarcnt</th>\n",
       "    </tr>\n",
       "  </thead>\n",
       "  <tbody>\n",
       "    <tr>\n",
       "      <th>1</th>\n",
       "      <td>1</td>\n",
       "      <td>2</td>\n",
       "      <td>1465</td>\n",
       "      <td>6111</td>\n",
       "      <td>34449266</td>\n",
       "      <td>-119281531</td>\n",
       "      <td>2061</td>\n",
       "      <td>97099</td>\n",
       "      <td>1967</td>\n",
       "      <td>464000</td>\n",
       "    </tr>\n",
       "    <tr>\n",
       "      <th>2</th>\n",
       "      <td>2</td>\n",
       "      <td>3</td>\n",
       "      <td>1243</td>\n",
       "      <td>6059</td>\n",
       "      <td>33886168</td>\n",
       "      <td>-117823170</td>\n",
       "      <td>1286</td>\n",
       "      <td>97078</td>\n",
       "      <td>1962</td>\n",
       "      <td>564778</td>\n",
       "    </tr>\n",
       "    <tr>\n",
       "      <th>3</th>\n",
       "      <td>3</td>\n",
       "      <td>4</td>\n",
       "      <td>2376</td>\n",
       "      <td>6037</td>\n",
       "      <td>34245180</td>\n",
       "      <td>-118240722</td>\n",
       "      <td>3101</td>\n",
       "      <td>96330</td>\n",
       "      <td>1970</td>\n",
       "      <td>145143</td>\n",
       "    </tr>\n",
       "    <tr>\n",
       "      <th>4</th>\n",
       "      <td>3</td>\n",
       "      <td>4</td>\n",
       "      <td>2962</td>\n",
       "      <td>6037</td>\n",
       "      <td>34145202</td>\n",
       "      <td>-118179824</td>\n",
       "      <td>3101</td>\n",
       "      <td>96293</td>\n",
       "      <td>1950</td>\n",
       "      <td>773303</td>\n",
       "    </tr>\n",
       "    <tr>\n",
       "      <th>5</th>\n",
       "      <td>1</td>\n",
       "      <td>2</td>\n",
       "      <td>738</td>\n",
       "      <td>6037</td>\n",
       "      <td>34149214</td>\n",
       "      <td>-118239357</td>\n",
       "      <td>3101</td>\n",
       "      <td>96325</td>\n",
       "      <td>1922</td>\n",
       "      <td>218552</td>\n",
       "    </tr>\n",
       "    <tr>\n",
       "      <th>...</th>\n",
       "      <td>...</td>\n",
       "      <td>...</td>\n",
       "      <td>...</td>\n",
       "      <td>...</td>\n",
       "      <td>...</td>\n",
       "      <td>...</td>\n",
       "      <td>...</td>\n",
       "      <td>...</td>\n",
       "      <td>...</td>\n",
       "      <td>...</td>\n",
       "    </tr>\n",
       "    <tr>\n",
       "      <th>52437</th>\n",
       "      <td>2</td>\n",
       "      <td>2</td>\n",
       "      <td>1286</td>\n",
       "      <td>6037</td>\n",
       "      <td>34245368</td>\n",
       "      <td>-118282383</td>\n",
       "      <td>3101</td>\n",
       "      <td>96284</td>\n",
       "      <td>1940</td>\n",
       "      <td>354621</td>\n",
       "    </tr>\n",
       "    <tr>\n",
       "      <th>52438</th>\n",
       "      <td>2</td>\n",
       "      <td>4</td>\n",
       "      <td>1612</td>\n",
       "      <td>6111</td>\n",
       "      <td>34300140</td>\n",
       "      <td>-118706327</td>\n",
       "      <td>2061</td>\n",
       "      <td>97116</td>\n",
       "      <td>1964</td>\n",
       "      <td>67205</td>\n",
       "    </tr>\n",
       "    <tr>\n",
       "      <th>52439</th>\n",
       "      <td>1</td>\n",
       "      <td>3</td>\n",
       "      <td>1032</td>\n",
       "      <td>6037</td>\n",
       "      <td>34040895</td>\n",
       "      <td>-118038169</td>\n",
       "      <td>3101</td>\n",
       "      <td>96480</td>\n",
       "      <td>1954</td>\n",
       "      <td>49546</td>\n",
       "    </tr>\n",
       "    <tr>\n",
       "      <th>52440</th>\n",
       "      <td>2</td>\n",
       "      <td>3</td>\n",
       "      <td>1762</td>\n",
       "      <td>6037</td>\n",
       "      <td>33937685</td>\n",
       "      <td>-117996709</td>\n",
       "      <td>3101</td>\n",
       "      <td>96171</td>\n",
       "      <td>1955</td>\n",
       "      <td>522000</td>\n",
       "    </tr>\n",
       "    <tr>\n",
       "      <th>52441</th>\n",
       "      <td>2</td>\n",
       "      <td>3</td>\n",
       "      <td>1050</td>\n",
       "      <td>6037</td>\n",
       "      <td>34010864</td>\n",
       "      <td>-117900894</td>\n",
       "      <td>3101</td>\n",
       "      <td>96488</td>\n",
       "      <td>1960</td>\n",
       "      <td>259334</td>\n",
       "    </tr>\n",
       "  </tbody>\n",
       "</table>\n",
       "<p>43301 rows × 10 columns</p>\n",
       "</div>"
      ],
      "text/plain": [
       "       bathroomcnt  bedroomcnt  calculatedfinishedsquarefeet  fips  latitude  \\\n",
       "1                1           2                          1465  6111  34449266   \n",
       "2                2           3                          1243  6059  33886168   \n",
       "3                3           4                          2376  6037  34245180   \n",
       "4                3           4                          2962  6037  34145202   \n",
       "5                1           2                           738  6037  34149214   \n",
       "...            ...         ...                           ...   ...       ...   \n",
       "52437            2           2                          1286  6037  34245368   \n",
       "52438            2           4                          1612  6111  34300140   \n",
       "52439            1           3                          1032  6037  34040895   \n",
       "52440            2           3                          1762  6037  33937685   \n",
       "52441            2           3                          1050  6037  34010864   \n",
       "\n",
       "       longitude  regionidcounty  regionidzip  yearbuilt  taxvaluedollarcnt  \n",
       "1     -119281531            2061        97099       1967             464000  \n",
       "2     -117823170            1286        97078       1962             564778  \n",
       "3     -118240722            3101        96330       1970             145143  \n",
       "4     -118179824            3101        96293       1950             773303  \n",
       "5     -118239357            3101        96325       1922             218552  \n",
       "...          ...             ...          ...        ...                ...  \n",
       "52437 -118282383            3101        96284       1940             354621  \n",
       "52438 -118706327            2061        97116       1964              67205  \n",
       "52439 -118038169            3101        96480       1954              49546  \n",
       "52440 -117996709            3101        96171       1955             522000  \n",
       "52441 -117900894            3101        96488       1960             259334  \n",
       "\n",
       "[43301 rows x 10 columns]"
      ]
     },
     "execution_count": 9,
     "metadata": {},
     "output_type": "execute_result"
    }
   ],
   "source": [
    "mvp = df.copy()\n",
    "mvp.astype(int)"
   ]
  },
  {
   "cell_type": "code",
   "execution_count": 10,
   "id": "e0604460",
   "metadata": {},
   "outputs": [
    {
     "data": {
      "text/plain": [
       "<seaborn.axisgrid.PairGrid at 0x7f7b90446e50>"
      ]
     },
     "execution_count": 10,
     "metadata": {},
     "output_type": "execute_result"
    },
    {
     "data": {
      "image/png": "[encoded data removed]",
      "text/plain": [
       "<Figure size 900x900 with 30 Axes>"
      ]
     },
     "metadata": {
      "needs_background": "light"
     },
     "output_type": "display_data"
    }
   ],
   "source": [
    "sns.pairplot(mvp,\n",
    "            x_vars=['bathroomcnt', 'bedroomcnt', 'calculatedfinishedsquarefeet', 'taxvaluedollarcnt','yearbuilt'],\n",
    "            y_vars=['bathroomcnt', 'bedroomcnt', 'calculatedfinishedsquarefeet', 'taxvaluedollarcnt','yearbuilt'],\n",
    "            kind= \"reg\")"
   ]
  },
  {
   "cell_type": "markdown",
   "id": "3038289a",
   "metadata": {},
   "source": [
    "### takeaways\n",
    "- Based on the charts above we can see that calculatedfinishedsquarefeet has a significant relationship with taxdollarvaluecnt\n",
    "- bedroomcnt has a mild relationship with taxdollarvaluecnt\n",
    "- bathroomcnt has a significant relationship with taxdollarvaluecnt"
   ]
  },
  {
   "cell_type": "markdown",
   "id": "32343438",
   "metadata": {},
   "source": [
    "***"
   ]
  },
  {
   "cell_type": "code",
   "execution_count": 11,
   "id": "405a8654",
   "metadata": {},
   "outputs": [
    {
     "data": {
      "text/plain": [
       "<AxesSubplot:xlabel='bathroomcnt', ylabel='taxvaluedollarcnt'>"
      ]
     },
     "execution_count": 11,
     "metadata": {},
     "output_type": "execute_result"
    },
    {
     "data": {
      "image/png": "[encoded data removed]",
      "text/plain": [
       "<Figure size 432x288 with 1 Axes>"
      ]
     },
     "metadata": {
      "needs_background": "light"
     },
     "output_type": "display_data"
    }
   ],
   "source": [
    "sns.barplot(x = 'bathroomcnt', y='taxvaluedollarcnt', hue = 'fips',data=train.sample(1000))"
   ]
  },
  {
   "cell_type": "code",
   "execution_count": 12,
   "id": "8c60fc85",
   "metadata": {},
   "outputs": [
    {
     "data": {
      "text/plain": [
       "<AxesSubplot:xlabel='bedroomcnt', ylabel='taxvaluedollarcnt'>"
      ]
     },
     "execution_count": 12,
     "metadata": {},
     "output_type": "execute_result"
    },
    {
     "data": {
      "image/png": "[encoded data removed]",
      "text/plain": [
       "<Figure size 432x288 with 1 Axes>"
      ]
     },
     "metadata": {
      "needs_background": "light"
     },
     "output_type": "display_data"
    }
   ],
   "source": [
    "sns.barplot(x = 'bedroomcnt', y='taxvaluedollarcnt', hue = 'fips',data=train.sample(1000))"
   ]
  },
  {
   "cell_type": "code",
   "execution_count": 13,
   "id": "8c0d5c26",
   "metadata": {},
   "outputs": [
    {
     "data": {
      "text/html": [
       "<div>\n",
       "<style scoped>\n",
       "    .dataframe tbody tr th:only-of-type {\n",
       "        vertical-align: middle;\n",
       "    }\n",
       "\n",
       "    .dataframe tbody tr th {\n",
       "        vertical-align: top;\n",
       "    }\n",
       "\n",
       "    .dataframe thead th {\n",
       "        text-align: right;\n",
       "    }\n",
       "</style>\n",
       "<table border=\"1\" class=\"dataframe\">\n",
       "  <thead>\n",
       "    <tr style=\"text-align: right;\">\n",
       "      <th></th>\n",
       "      <th>bathroomcnt</th>\n",
       "      <th>bedroomcnt</th>\n",
       "      <th>calculatedfinishedsquarefeet</th>\n",
       "      <th>taxvaluedollarcnt</th>\n",
       "      <th>fips</th>\n",
       "    </tr>\n",
       "  </thead>\n",
       "  <tbody>\n",
       "    <tr>\n",
       "      <th>count</th>\n",
       "      <td>24248.000000</td>\n",
       "      <td>24248.000000</td>\n",
       "      <td>24248.000000</td>\n",
       "      <td>2.424800e+04</td>\n",
       "      <td>24248.000000</td>\n",
       "    </tr>\n",
       "    <tr>\n",
       "      <th>mean</th>\n",
       "      <td>2.058046</td>\n",
       "      <td>3.172798</td>\n",
       "      <td>1650.215111</td>\n",
       "      <td>3.847227e+05</td>\n",
       "      <td>6049.104833</td>\n",
       "    </tr>\n",
       "    <tr>\n",
       "      <th>std</th>\n",
       "      <td>0.663678</td>\n",
       "      <td>0.765378</td>\n",
       "      <td>540.830997</td>\n",
       "      <td>2.764241e+05</td>\n",
       "      <td>21.090329</td>\n",
       "    </tr>\n",
       "    <tr>\n",
       "      <th>min</th>\n",
       "      <td>1.000000</td>\n",
       "      <td>2.000000</td>\n",
       "      <td>500.000000</td>\n",
       "      <td>9.242000e+03</td>\n",
       "      <td>6037.000000</td>\n",
       "    </tr>\n",
       "    <tr>\n",
       "      <th>25%</th>\n",
       "      <td>2.000000</td>\n",
       "      <td>3.000000</td>\n",
       "      <td>1236.000000</td>\n",
       "      <td>1.745400e+05</td>\n",
       "      <td>6037.000000</td>\n",
       "    </tr>\n",
       "    <tr>\n",
       "      <th>50%</th>\n",
       "      <td>2.000000</td>\n",
       "      <td>3.000000</td>\n",
       "      <td>1558.000000</td>\n",
       "      <td>3.374050e+05</td>\n",
       "      <td>6037.000000</td>\n",
       "    </tr>\n",
       "    <tr>\n",
       "      <th>75%</th>\n",
       "      <td>2.500000</td>\n",
       "      <td>4.000000</td>\n",
       "      <td>2002.000000</td>\n",
       "      <td>5.199752e+05</td>\n",
       "      <td>6059.000000</td>\n",
       "    </tr>\n",
       "    <tr>\n",
       "      <th>max</th>\n",
       "      <td>3.500000</td>\n",
       "      <td>5.000000</td>\n",
       "      <td>3049.000000</td>\n",
       "      <td>1.698819e+06</td>\n",
       "      <td>6111.000000</td>\n",
       "    </tr>\n",
       "  </tbody>\n",
       "</table>\n",
       "</div>"
      ],
      "text/plain": [
       "        bathroomcnt    bedroomcnt  calculatedfinishedsquarefeet  \\\n",
       "count  24248.000000  24248.000000                  24248.000000   \n",
       "mean       2.058046      3.172798                   1650.215111   \n",
       "std        0.663678      0.765378                    540.830997   \n",
       "min        1.000000      2.000000                    500.000000   \n",
       "25%        2.000000      3.000000                   1236.000000   \n",
       "50%        2.000000      3.000000                   1558.000000   \n",
       "75%        2.500000      4.000000                   2002.000000   \n",
       "max        3.500000      5.000000                   3049.000000   \n",
       "\n",
       "       taxvaluedollarcnt          fips  \n",
       "count       2.424800e+04  24248.000000  \n",
       "mean        3.847227e+05   6049.104833  \n",
       "std         2.764241e+05     21.090329  \n",
       "min         9.242000e+03   6037.000000  \n",
       "25%         1.745400e+05   6037.000000  \n",
       "50%         3.374050e+05   6037.000000  \n",
       "75%         5.199752e+05   6059.000000  \n",
       "max         1.698819e+06   6111.000000  "
      ]
     },
     "execution_count": 13,
     "metadata": {},
     "output_type": "execute_result"
    }
   ],
   "source": [
    "train.describe()[['bathroomcnt', 'bedroomcnt', 'calculatedfinishedsquarefeet', 'taxvaluedollarcnt','fips']]"
   ]
  },
  {
   "cell_type": "markdown",
   "id": "0bcf8b8b",
   "metadata": {},
   "source": [
    "- Calculatedfinishedsqaurefeet has a large differance that has a significant affect on TaxValuedollarcount\n",
    "- Bathroomcnt has a differance that has a moderate significant affect on TaxValuedollarcount\n",
    "- Bedroomcnt has a differance that has a moderate significant affect on TaxValuedollarcount"
   ]
  },
  {
   "cell_type": "markdown",
   "id": "a6842a67",
   "metadata": {},
   "source": [
    "### MVP = are bathroomcnt, bedroomcnt, calculatedfinishedsquarefeet"
   ]
  },
  {
   "cell_type": "markdown",
   "id": "a516cf5c",
   "metadata": {},
   "source": [
    "# Hypothesis testing\n",
    "## What relationship does the  mvp have with the target variable?"
   ]
  },
  {
   "cell_type": "code",
   "execution_count": 14,
   "id": "cee3c3c3",
   "metadata": {},
   "outputs": [],
   "source": [
    "alpha = 0.05"
   ]
  },
  {
   "cell_type": "markdown",
   "id": "75fa9cd5",
   "metadata": {},
   "source": [
    "## calculatedfinishedsquarefeet & taxvaluedollarcnt (corr):\n",
    "Null Hypothesis ${h_0}$ = there is no linear correlation between the calculatedfinishedsquarefeet of a home and taxvaluedollarcnt\n",
    "\n",
    "Alternative Hypothesis ${h_a}$ = there is a linear correlation between the calculatedfinishedsquarefeet of a home and taxvaluedollarcnt"
   ]
  },
  {
   "cell_type": "code",
   "execution_count": 15,
   "id": "b09f0fdd",
   "metadata": {},
   "outputs": [
    {
     "name": "stdout",
     "output_type": "stream",
     "text": [
      "correlation: 0.40099727421323567 , p value: 0.0\n",
      "Pvalue is: 0.0 is less than alpha: 0.05\n",
      "Reject the null hypothesis because there is a correlation present\n"
     ]
    }
   ],
   "source": [
    "# corralation with sq ft and tax value dollar count\n",
    "corr, p = stats.pearsonr(train.calculatedfinishedsquarefeet, train.taxvaluedollarcnt)\n",
    "corr, p\n",
    "#correlation test summary\n",
    "print(\"correlation:\", corr,\",\",\"p value:\",p)\n",
    "if p < alpha:\n",
    "    print(f'Pvalue is: {p} is less than alpha: {alpha}')\n",
    "    print(\"Reject the null hypothesis because there is a correlation present\")\n",
    "else:\n",
    "    print(f'Pvalue is: {p} is greater than alpha: {alpha}')\n",
    "    print(\"We fail to reject the null hypothesis because there is no significant correlation present\")"
   ]
  },
  {
   "cell_type": "markdown",
   "id": "be6d87a6",
   "metadata": {},
   "source": [
    "## bathroomcnt & taxvaluedollarcnt (corr):\n",
    "Null Hypothesis ${h_0}$ = there is no linear correlation between the bathroomcnt of a home and taxvaluedollarcnt\n",
    "\n",
    "Alternative Hypothesis ${h_a}$ = there is a linear correlation between the bathroomcnt of a home and taxvaluedollarcnt"
   ]
  },
  {
   "cell_type": "code",
   "execution_count": 16,
   "id": "96f01e22",
   "metadata": {},
   "outputs": [
    {
     "name": "stdout",
     "output_type": "stream",
     "text": [
      "correlation: 0.3119308746935817 , p value: 0.0\n",
      "Pvalue is: 0.0 is less than alpha: 0.05\n",
      "Reject the null hypothesis because there is a correlation present\n"
     ]
    }
   ],
   "source": [
    "# corralation with bathroomcnt and tax value dollar count\n",
    "corr, p = stats.pearsonr(train.bathroomcnt, train.taxvaluedollarcnt)\n",
    "corr, p\n",
    "#correlation test summary\n",
    "print(\"correlation:\", corr,\",\",\"p value:\",p)\n",
    "if p < alpha:\n",
    "    print(f'Pvalue is: {p} is less than alpha: {alpha}')\n",
    "    print(\"Reject the null hypothesis because there is a correlation present\")\n",
    "else:\n",
    "    print(f'Pvalue is: {p} is greater than alpha: {alpha}')\n",
    "    print(\"We fail to reject the null hypothesis because there is no significant correlation present\")"
   ]
  },
  {
   "cell_type": "markdown",
   "id": "5dd7e337",
   "metadata": {},
   "source": [
    "## bedroomcnt & taxvaluedollarcnt (corr):\n",
    "Null Hypothesis ${h_0}$ = there is no linear correlation between the bedroomcnt of a home and taxvaluedollarcnt\n",
    "\n",
    "Alternative Hypothesis ${h_a}$ = there is a linear correlation between the bedroomcnt of a home and taxvaluedollarcnt"
   ]
  },
  {
   "cell_type": "code",
   "execution_count": 17,
   "id": "5d8fa8db",
   "metadata": {},
   "outputs": [
    {
     "name": "stdout",
     "output_type": "stream",
     "text": [
      "correlation: 0.13584177525353153 , p value: 3.2656153560955047e-100\n",
      "Pvalue is: 3.2656153560955047e-100 is less than alpha: 0.05\n",
      "Reject the null hypothesis because there is a correlation present\n"
     ]
    }
   ],
   "source": [
    "# corralation with bedroomcnt and tax value dollar count\n",
    "corr, p = stats.pearsonr(train.bedroomcnt, train.taxvaluedollarcnt)\n",
    "corr, p\n",
    "#correlation test summary\n",
    "print(\"correlation:\", corr,\",\",\"p value:\",p)\n",
    "if p < alpha:\n",
    "    print(f'Pvalue is: {p} is less than alpha: {alpha}')\n",
    "    print(\"Reject the null hypothesis because there is a correlation present\")\n",
    "else:\n",
    "    print(f'Pvalue is: {p} is greater than alpha: {alpha}')\n",
    "    print(\"We fail to reject the null hypothesis because there is no significant correlation present\")"
   ]
  },
  {
   "cell_type": "markdown",
   "id": "3111bea1",
   "metadata": {},
   "source": [
    "### take aways\n",
    "- there is a linear correlation between the bedroomcnt of a home and taxvaluedollarcnt\n",
    "- there is a linear correlation between the bathroomcnt of a home and taxvaluedollarcnt\n",
    "- there is a linear correlation between the calculatedfinishedsquarefeet of a home and taxvaluedollarcnt"
   ]
  },
  {
   "cell_type": "markdown",
   "id": "5805fad0",
   "metadata": {},
   "source": [
    "***"
   ]
  },
  {
   "cell_type": "markdown",
   "id": "4c237dd1",
   "metadata": {},
   "source": [
    "# spliting and scaling"
   ]
  },
  {
   "cell_type": "code",
   "execution_count": 18,
   "id": "2fcc1622",
   "metadata": {},
   "outputs": [],
   "source": [
    "X_train = train[['calculatedfinishedsquarefeet','bathroomcnt', 'bedroomcnt']]\n",
    "y_train = train['taxvaluedollarcnt']\n",
    "\n",
    "X_validate = validate[['calculatedfinishedsquarefeet','bathroomcnt', 'bedroomcnt']]\n",
    "y_validate = validate['taxvaluedollarcnt']\n",
    "\n",
    "X_test = test[['calculatedfinishedsquarefeet','bathroomcnt', 'bedroomcnt']]\n",
    "y_test = test['taxvaluedollarcnt']"
   ]
  },
  {
   "cell_type": "code",
   "execution_count": 19,
   "id": "c1cb8257",
   "metadata": {
    "scrolled": false
   },
   "outputs": [],
   "source": [
    "scaler, X_train_scaled, X_validate_scaled, X_test_scaled = prepare.scale_data(X_train, X_validate, X_test, return_scaler=True)"
   ]
  },
  {
   "cell_type": "markdown",
   "id": "2581ce56",
   "metadata": {},
   "source": [
    "***"
   ]
  },
  {
   "cell_type": "markdown",
   "id": "2f79722a",
   "metadata": {},
   "source": [
    "# Modeling\n",
    "- Use MinMaxscaler"
   ]
  },
  {
   "cell_type": "code",
   "execution_count": 20,
   "id": "6e83946f",
   "metadata": {},
   "outputs": [
    {
     "name": "stdout",
     "output_type": "stream",
     "text": [
      "RMSE using Mean\n",
      "Train/In-Sample:  276418.44 \n",
      "Validate/Out-of-Sample:  277181.46\n",
      "RMSE using Median\n",
      "Train/In-Sample:  280439.15 \n",
      "Validate/Out-of-Sample:  281425.87\n"
     ]
    }
   ],
   "source": [
    "# We need y_train and y_validate to be dataframes to append the new columns with predicted values.\n",
    "y_train = pd.DataFrame(y_train)\n",
    "y_validate = pd.DataFrame(y_validate)\n",
    "# 1. Predict price_pred_mean\n",
    "taxvaluedollarcnt_pred_mean = y_train.taxvaluedollarcnt.mean()\n",
    "# creating a taxvalue_pred_mean column for my y_train\n",
    "y_train['taxvaluedollarcnt_pred_mean'] = y_train.taxvaluedollarcnt.mean()\n",
    "# creating a taxvalue_pred_mean column for my y_validate\n",
    "y_validate['taxvaluedollarcnt_pred_mean'] = y_validate.taxvaluedollarcnt.mean()\n",
    "# 2. compute price_pred_median\n",
    "# creating a predictive median for y train \n",
    "y_train['taxvaluedollarcnt_pred_median'] = y_train.taxvaluedollarcnt.median()\n",
    "# creating a predictive median for y_validate\n",
    "y_validate['taxvaluedollarcnt_pred_median'] = y_validate.taxvaluedollarcnt.median()\n",
    "# 3. RMSE of price_pred_mean\n",
    "rmse_train = mean_squared_error(y_train.taxvaluedollarcnt, y_train.taxvaluedollarcnt_pred_mean)**(1/2)\n",
    "rmse_validate = mean_squared_error(y_validate.taxvaluedollarcnt, y_validate.taxvaluedollarcnt_pred_mean)**(1/2)\n",
    "print(\"RMSE using Mean\\nTrain/In-Sample: \", round(rmse_train, 2),\n",
    "      \"\\nValidate/Out-of-Sample: \", round(rmse_validate, 2))\n",
    "# 4. RMSE of taxvaluedollarcnt_pred_median\n",
    "rmse_train = mean_squared_error(y_train.taxvaluedollarcnt, y_train.taxvaluedollarcnt_pred_median)**(1/2)\n",
    "rmse_validate = mean_squared_error(y_validate.taxvaluedollarcnt, y_validate.taxvaluedollarcnt_pred_median)**(1/2)\n",
    "print(\"RMSE using Median\\nTrain/In-Sample: \", round(rmse_train, 2),\n",
    "      \"\\nValidate/Out-of-Sample: \", round(rmse_validate, 2))"
   ]
  },
  {
   "cell_type": "code",
   "execution_count": 21,
   "id": "98809b0e",
   "metadata": {},
   "outputs": [],
   "source": [
    "#predicting y from trained data\n",
    "#predict rules\n",
    "model = LinearRegression().fit(X_train_scaled, y_train.taxvaluedollarcnt)\n",
    "predictions = model.predict(X_train_scaled)"
   ]
  },
  {
   "cell_type": "code",
   "execution_count": 22,
   "id": "96ba00fe",
   "metadata": {},
   "outputs": [
    {
     "data": {
      "text/html": [
       "<div>\n",
       "<style scoped>\n",
       "    .dataframe tbody tr th:only-of-type {\n",
       "        vertical-align: middle;\n",
       "    }\n",
       "\n",
       "    .dataframe tbody tr th {\n",
       "        vertical-align: top;\n",
       "    }\n",
       "\n",
       "    .dataframe thead th {\n",
       "        text-align: right;\n",
       "    }\n",
       "</style>\n",
       "<table border=\"1\" class=\"dataframe\">\n",
       "  <thead>\n",
       "    <tr style=\"text-align: right;\">\n",
       "      <th></th>\n",
       "      <th>taxvaluedollarcnt</th>\n",
       "    </tr>\n",
       "  </thead>\n",
       "  <tbody>\n",
       "    <tr>\n",
       "      <th>42751</th>\n",
       "      <td>520519.0</td>\n",
       "    </tr>\n",
       "    <tr>\n",
       "      <th>21269</th>\n",
       "      <td>460811.0</td>\n",
       "    </tr>\n",
       "    <tr>\n",
       "      <th>25934</th>\n",
       "      <td>472963.0</td>\n",
       "    </tr>\n",
       "    <tr>\n",
       "      <th>47293</th>\n",
       "      <td>408687.0</td>\n",
       "    </tr>\n",
       "    <tr>\n",
       "      <th>50195</th>\n",
       "      <td>329291.0</td>\n",
       "    </tr>\n",
       "    <tr>\n",
       "      <th>...</th>\n",
       "      <td>...</td>\n",
       "    </tr>\n",
       "    <tr>\n",
       "      <th>47199</th>\n",
       "      <td>757000.0</td>\n",
       "    </tr>\n",
       "    <tr>\n",
       "      <th>50411</th>\n",
       "      <td>130016.0</td>\n",
       "    </tr>\n",
       "    <tr>\n",
       "      <th>46797</th>\n",
       "      <td>551000.0</td>\n",
       "    </tr>\n",
       "    <tr>\n",
       "      <th>13963</th>\n",
       "      <td>160633.0</td>\n",
       "    </tr>\n",
       "    <tr>\n",
       "      <th>20767</th>\n",
       "      <td>185000.0</td>\n",
       "    </tr>\n",
       "  </tbody>\n",
       "</table>\n",
       "<p>8661 rows × 1 columns</p>\n",
       "</div>"
      ],
      "text/plain": [
       "       taxvaluedollarcnt\n",
       "42751           520519.0\n",
       "21269           460811.0\n",
       "25934           472963.0\n",
       "47293           408687.0\n",
       "50195           329291.0\n",
       "...                  ...\n",
       "47199           757000.0\n",
       "50411           130016.0\n",
       "46797           551000.0\n",
       "13963           160633.0\n",
       "20767           185000.0\n",
       "\n",
       "[8661 rows x 1 columns]"
      ]
     },
     "execution_count": 22,
     "metadata": {},
     "output_type": "execute_result"
    }
   ],
   "source": [
    "y_test = pd.DataFrame(y_test)\n",
    "\n",
    "y_test"
   ]
  },
  {
   "cell_type": "markdown",
   "id": "8a7a8a95",
   "metadata": {},
   "source": [
    "# LinearRegression (ols)"
   ]
  },
  {
   "cell_type": "code",
   "execution_count": 23,
   "id": "20d8c47a",
   "metadata": {},
   "outputs": [
    {
     "name": "stdout",
     "output_type": "stream",
     "text": [
      "RMSE for OLS using LinearRegression\n",
      "Training/In-Sample:  250954.58515555505 \n",
      "Validation/Out-of-Sample:  254020.8659488386\n"
     ]
    }
   ],
   "source": [
    "# create the model object\n",
    "lm = LinearRegression(normalize=True)\n",
    "\n",
    "# fit the model to our training data. We must specify the column in y_train, \n",
    "# since we have converted it to a dataframe from a series! \n",
    "lm.fit(X_train_scaled, y_train.taxvaluedollarcnt)\n",
    "\n",
    "# predict train\n",
    "y_train['taxvaluedollarcnt_pred_lm'] = lm.predict(X_train_scaled)\n",
    "\n",
    "# evaluate: rmse\n",
    "rmse_train = mean_squared_error(y_train.taxvaluedollarcnt, y_train.taxvaluedollarcnt_pred_lm)**(1/2)\n",
    "\n",
    "# predict validate\n",
    "y_validate['taxvaluedollarcnt_pred_lm'] = lm.predict(X_validate_scaled)\n",
    "\n",
    "# evaluate: rmse\n",
    "rmse_validate_lm = mean_squared_error(y_validate.taxvaluedollarcnt, y_validate.taxvaluedollarcnt_pred_lm)**(1/2)\n",
    "\n",
    "print(\"RMSE for OLS using LinearRegression\\nTraining/In-Sample: \", rmse_train, \n",
    "      \"\\nValidation/Out-of-Sample: \", rmse_validate_lm)\n"
   ]
  },
  {
   "cell_type": "code",
   "execution_count": 24,
   "id": "c5b45657",
   "metadata": {},
   "outputs": [],
   "source": [
    "#residuals\n",
    "y_train['lm_residuals'] = y_train['taxvaluedollarcnt_pred_lm'] - y_train['taxvaluedollarcnt']\n",
    "y_validate['lm_residuals'] = y_validate['taxvaluedollarcnt_pred_lm'] - y_validate['taxvaluedollarcnt']\n"
   ]
  },
  {
   "cell_type": "markdown",
   "id": "5537567b",
   "metadata": {},
   "source": [
    "# LassoLars (lars)"
   ]
  },
  {
   "cell_type": "code",
   "execution_count": 25,
   "id": "d58a0c6f",
   "metadata": {},
   "outputs": [
    {
     "name": "stdout",
     "output_type": "stream",
     "text": [
      "RMSE for Lasso + Lars\n",
      "Training/In-Sample:  250954.84367137836 \n",
      "Validation/Out-of-Sample:  254020.75024149937\n"
     ]
    }
   ],
   "source": [
    "# create the model object\n",
    "lars = LassoLars(alpha=1.0)\n",
    "\n",
    "# fit the model to our training data. We must specify the column in y_train, \n",
    "# since we have converted it to a dataframe from a series! \n",
    "lars.fit(X_train_scaled, y_train.taxvaluedollarcnt)\n",
    "\n",
    "# predict train\n",
    "y_train['taxvaluedollarcnt_pred_lars'] = lars.predict(X_train_scaled)\n",
    "\n",
    "# evaluate: rmse\n",
    "rmse_train_lars = mean_squared_error(y_train.taxvaluedollarcnt, y_train.taxvaluedollarcnt_pred_lars)**(1/2)\n",
    "\n",
    "# predict validate\n",
    "y_validate['taxvaluedollarcnt_pred_lars'] = lars.predict(X_validate_scaled)\n",
    "\n",
    "# evaluate: rmse\n",
    "rmse_validate_lars = mean_squared_error(y_validate.taxvaluedollarcnt, y_validate.taxvaluedollarcnt_pred_lars)**(1/2)\n",
    "\n",
    "print(\"RMSE for Lasso + Lars\\nTraining/In-Sample: \", rmse_train_lars, \n",
    "      \"\\nValidation/Out-of-Sample: \", rmse_validate_lars)\n"
   ]
  },
  {
   "cell_type": "code",
   "execution_count": 26,
   "id": "a26a33ab",
   "metadata": {},
   "outputs": [],
   "source": [
    "#residuals\n",
    "y_train['lars_residuals'] = y_train['taxvaluedollarcnt_pred_lars'] - y_train['taxvaluedollarcnt']\n",
    "y_validate['lars_residuals'] = y_validate['taxvaluedollarcnt_pred_lars'] - y_validate['taxvaluedollarcnt']"
   ]
  },
  {
   "cell_type": "markdown",
   "id": "bf56f6c2",
   "metadata": {},
   "source": [
    "# TweedieRegressor (GLM)"
   ]
  },
  {
   "cell_type": "code",
   "execution_count": 27,
   "id": "c423f545",
   "metadata": {},
   "outputs": [
    {
     "name": "stdout",
     "output_type": "stream",
     "text": [
      "RMSE for GLM using Tweedie, power=1 & alpha=0\n",
      "Training/In-Sample:  250954.58515555505 \n",
      "Validation/Out-of-Sample:  254229.36340944044\n"
     ]
    }
   ],
   "source": [
    "# create the model object\n",
    "glm = TweedieRegressor(power=1, alpha=0)\n",
    "\n",
    "# fit the model to our training data. We must specify the column in y_train, \n",
    "# since we have converted it to a dataframe from a series! \n",
    "glm.fit(X_train_scaled, y_train.taxvaluedollarcnt)\n",
    "\n",
    "# predict train\n",
    "y_train['taxvaluedollarcnt_pred_glm'] = glm.predict(X_train_scaled)\n",
    "\n",
    "# evaluate: rmse\n",
    "rmse_train_glm = mean_squared_error(y_train.taxvaluedollarcnt, y_train.taxvaluedollarcnt_pred_glm)**(1/2)\n",
    "\n",
    "# predict validate\n",
    "y_validate['taxvaluedollarcnt_pred_glm'] = glm.predict(X_validate_scaled)\n",
    "\n",
    "# evaluate: rmse\n",
    "rmse_validate_glm = mean_squared_error(y_validate.taxvaluedollarcnt, y_validate.taxvaluedollarcnt_pred_glm)**(1/2)\n",
    "\n",
    "print(\"RMSE for GLM using Tweedie, power=1 & alpha=0\\nTraining/In-Sample: \", rmse_train, \n",
    "      \"\\nValidation/Out-of-Sample: \", rmse_validate_glm)\n"
   ]
  },
  {
   "cell_type": "code",
   "execution_count": 28,
   "id": "b8af7578",
   "metadata": {},
   "outputs": [],
   "source": [
    "#residuals\n",
    "y_train['glm_residuals'] = y_train['taxvaluedollarcnt_pred_glm'] - y_train['taxvaluedollarcnt']\n",
    "y_validate['glm_residuals'] = y_validate['taxvaluedollarcnt_pred_glm'] - y_validate['taxvaluedollarcnt']"
   ]
  },
  {
   "cell_type": "markdown",
   "id": "888dff15",
   "metadata": {},
   "source": [
    "# Polynomial Regression"
   ]
  },
  {
   "cell_type": "code",
   "execution_count": 29,
   "id": "cd9427ff",
   "metadata": {},
   "outputs": [],
   "source": [
    "# make the polynomial features to get a new set of features\n",
    "pf = PolynomialFeatures(degree=2)\n",
    "\n",
    "# fit and transform X_train_scaled\n",
    "X_train_degree2 = pf.fit_transform(X_train_scaled)\n",
    "\n",
    "# transform X_validate_scaled & X_test_scaled\n",
    "X_validate_degree2 = pf.transform(X_validate_scaled)\n",
    "X_test_degree2 = pf.transform(X_test_scaled)\n"
   ]
  },
  {
   "cell_type": "code",
   "execution_count": 30,
   "id": "cbeffb5e",
   "metadata": {},
   "outputs": [
    {
     "name": "stdout",
     "output_type": "stream",
     "text": [
      "RMSE for Polynomial Model, degrees=2\n",
      "Training/In-Sample:  250954.58515555505 \n",
      "Validation/Out-of-Sample:  281425.87159613887\n"
     ]
    }
   ],
   "source": [
    "# create the model object\n",
    "lm2 = LinearRegression(normalize=True)\n",
    "\n",
    "# fit the model to our training data. We must specify the column in y_train, \n",
    "# since we have converted it to a dataframe from a series! \n",
    "lm2.fit(X_train_degree2, y_train.taxvaluedollarcnt)\n",
    "\n",
    "# predict train\n",
    "y_train['taxvaluedollarcnt_pred_lm2'] = lm2.predict(X_train_degree2)\n",
    "\n",
    "# evaluate: rmse\n",
    "rmse_train_lm2 = mean_squared_error(y_train.taxvaluedollarcnt, y_train.taxvaluedollarcnt_pred_lm2)**(1/2)\n",
    "\n",
    "# predict validate\n",
    "y_validate['taxvaluedollarcnt_pred_lm2'] = lm2.predict(X_validate_degree2)\n",
    "\n",
    "# evaluate: rmse\n",
    "rmse_validate_lm2 = mean_squared_error(y_validate.taxvaluedollarcnt, y_validate.taxvaluedollarcnt_pred_lm2)**(1/2)\n",
    "\n",
    "print(\"RMSE for Polynomial Model, degrees=2\\nTraining/In-Sample: \", rmse_train, \n",
    "      \"\\nValidation/Out-of-Sample: \", rmse_validate)\n"
   ]
  },
  {
   "cell_type": "code",
   "execution_count": 31,
   "id": "8135446e",
   "metadata": {},
   "outputs": [],
   "source": [
    "#residuals\n",
    "y_train['poly_residuals'] = y_train['taxvaluedollarcnt_pred_lm2'] - y_train['taxvaluedollarcnt']\n",
    "y_validate['poly_residuals'] = y_validate['taxvaluedollarcnt_pred_lm2'] - y_validate['taxvaluedollarcnt']"
   ]
  },
  {
   "cell_type": "markdown",
   "id": "73df2223",
   "metadata": {},
   "source": [
    "***"
   ]
  },
  {
   "cell_type": "markdown",
   "id": "57a83248",
   "metadata": {},
   "source": [
    "# Evaluating regression models"
   ]
  },
  {
   "cell_type": "code",
   "execution_count": 32,
   "id": "593ae379",
   "metadata": {},
   "outputs": [
    {
     "data": {
      "text/html": [
       "<div>\n",
       "<style scoped>\n",
       "    .dataframe tbody tr th:only-of-type {\n",
       "        vertical-align: middle;\n",
       "    }\n",
       "\n",
       "    .dataframe tbody tr th {\n",
       "        vertical-align: top;\n",
       "    }\n",
       "\n",
       "    .dataframe thead th {\n",
       "        text-align: right;\n",
       "    }\n",
       "</style>\n",
       "<table border=\"1\" class=\"dataframe\">\n",
       "  <thead>\n",
       "    <tr style=\"text-align: right;\">\n",
       "      <th></th>\n",
       "      <th>bathroomcnt</th>\n",
       "      <th>bedroomcnt</th>\n",
       "      <th>calculatedfinishedsquarefeet</th>\n",
       "      <th>fips</th>\n",
       "      <th>latitude</th>\n",
       "      <th>longitude</th>\n",
       "      <th>regionidcounty</th>\n",
       "      <th>regionidzip</th>\n",
       "      <th>yearbuilt</th>\n",
       "      <th>taxvaluedollarcnt</th>\n",
       "      <th>yhat</th>\n",
       "    </tr>\n",
       "  </thead>\n",
       "  <tbody>\n",
       "    <tr>\n",
       "      <th>21620</th>\n",
       "      <td>2.0</td>\n",
       "      <td>2.0</td>\n",
       "      <td>1685.0</td>\n",
       "      <td>6037.0</td>\n",
       "      <td>33986883.0</td>\n",
       "      <td>-118337715.0</td>\n",
       "      <td>3101.0</td>\n",
       "      <td>96024.0</td>\n",
       "      <td>1936.0</td>\n",
       "      <td>264846.0</td>\n",
       "      <td>455947.770099</td>\n",
       "    </tr>\n",
       "    <tr>\n",
       "      <th>2407</th>\n",
       "      <td>2.0</td>\n",
       "      <td>3.0</td>\n",
       "      <td>1030.0</td>\n",
       "      <td>6037.0</td>\n",
       "      <td>34047780.0</td>\n",
       "      <td>-117970197.0</td>\n",
       "      <td>3101.0</td>\n",
       "      <td>96490.0</td>\n",
       "      <td>1956.0</td>\n",
       "      <td>153579.0</td>\n",
       "      <td>251325.152302</td>\n",
       "    </tr>\n",
       "    <tr>\n",
       "      <th>51380</th>\n",
       "      <td>1.0</td>\n",
       "      <td>2.0</td>\n",
       "      <td>1253.0</td>\n",
       "      <td>6037.0</td>\n",
       "      <td>34124404.0</td>\n",
       "      <td>-118223851.0</td>\n",
       "      <td>3101.0</td>\n",
       "      <td>96046.0</td>\n",
       "      <td>1937.0</td>\n",
       "      <td>479773.0</td>\n",
       "      <td>334108.604749</td>\n",
       "    </tr>\n",
       "    <tr>\n",
       "      <th>41843</th>\n",
       "      <td>3.0</td>\n",
       "      <td>4.0</td>\n",
       "      <td>2034.0</td>\n",
       "      <td>6111.0</td>\n",
       "      <td>34302133.0</td>\n",
       "      <td>-118754068.0</td>\n",
       "      <td>2061.0</td>\n",
       "      <td>97118.0</td>\n",
       "      <td>2005.0</td>\n",
       "      <td>634530.0</td>\n",
       "      <td>448620.263748</td>\n",
       "    </tr>\n",
       "    <tr>\n",
       "      <th>44774</th>\n",
       "      <td>2.0</td>\n",
       "      <td>3.0</td>\n",
       "      <td>1557.0</td>\n",
       "      <td>6037.0</td>\n",
       "      <td>33906300.0</td>\n",
       "      <td>-118127339.0</td>\n",
       "      <td>3101.0</td>\n",
       "      <td>96208.0</td>\n",
       "      <td>1950.0</td>\n",
       "      <td>245376.0</td>\n",
       "      <td>371619.694414</td>\n",
       "    </tr>\n",
       "    <tr>\n",
       "      <th>...</th>\n",
       "      <td>...</td>\n",
       "      <td>...</td>\n",
       "      <td>...</td>\n",
       "      <td>...</td>\n",
       "      <td>...</td>\n",
       "      <td>...</td>\n",
       "      <td>...</td>\n",
       "      <td>...</td>\n",
       "      <td>...</td>\n",
       "      <td>...</td>\n",
       "      <td>...</td>\n",
       "    </tr>\n",
       "    <tr>\n",
       "      <th>16906</th>\n",
       "      <td>2.0</td>\n",
       "      <td>3.0</td>\n",
       "      <td>1143.0</td>\n",
       "      <td>6037.0</td>\n",
       "      <td>34205157.0</td>\n",
       "      <td>-118514120.0</td>\n",
       "      <td>3101.0</td>\n",
       "      <td>96415.0</td>\n",
       "      <td>1950.0</td>\n",
       "      <td>56691.0</td>\n",
       "      <td>277118.858675</td>\n",
       "    </tr>\n",
       "    <tr>\n",
       "      <th>13577</th>\n",
       "      <td>2.5</td>\n",
       "      <td>4.0</td>\n",
       "      <td>2297.0</td>\n",
       "      <td>6111.0</td>\n",
       "      <td>34188159.0</td>\n",
       "      <td>-119205314.0</td>\n",
       "      <td>2061.0</td>\n",
       "      <td>97106.0</td>\n",
       "      <td>1969.0</td>\n",
       "      <td>82676.0</td>\n",
       "      <td>497038.604550</td>\n",
       "    </tr>\n",
       "    <tr>\n",
       "      <th>13023</th>\n",
       "      <td>2.0</td>\n",
       "      <td>3.0</td>\n",
       "      <td>1937.0</td>\n",
       "      <td>6059.0</td>\n",
       "      <td>33457060.0</td>\n",
       "      <td>-117639428.0</td>\n",
       "      <td>1286.0</td>\n",
       "      <td>96983.0</td>\n",
       "      <td>1984.0</td>\n",
       "      <td>81767.0</td>\n",
       "      <td>458359.591953</td>\n",
       "    </tr>\n",
       "    <tr>\n",
       "      <th>46246</th>\n",
       "      <td>2.0</td>\n",
       "      <td>4.0</td>\n",
       "      <td>1636.0</td>\n",
       "      <td>6037.0</td>\n",
       "      <td>33989390.0</td>\n",
       "      <td>-117983680.0</td>\n",
       "      <td>3101.0</td>\n",
       "      <td>96489.0</td>\n",
       "      <td>1973.0</td>\n",
       "      <td>485955.0</td>\n",
       "      <td>334542.036600</td>\n",
       "    </tr>\n",
       "    <tr>\n",
       "      <th>30622</th>\n",
       "      <td>1.0</td>\n",
       "      <td>2.0</td>\n",
       "      <td>1170.0</td>\n",
       "      <td>6037.0</td>\n",
       "      <td>33863599.0</td>\n",
       "      <td>-118082803.0</td>\n",
       "      <td>3101.0</td>\n",
       "      <td>96204.0</td>\n",
       "      <td>1947.0</td>\n",
       "      <td>49967.0</td>\n",
       "      <td>315162.785024</td>\n",
       "    </tr>\n",
       "  </tbody>\n",
       "</table>\n",
       "<p>24248 rows × 11 columns</p>\n",
       "</div>"
      ],
      "text/plain": [
       "       bathroomcnt  bedroomcnt  calculatedfinishedsquarefeet    fips  \\\n",
       "21620          2.0         2.0                        1685.0  6037.0   \n",
       "2407           2.0         3.0                        1030.0  6037.0   \n",
       "51380          1.0         2.0                        1253.0  6037.0   \n",
       "41843          3.0         4.0                        2034.0  6111.0   \n",
       "44774          2.0         3.0                        1557.0  6037.0   \n",
       "...            ...         ...                           ...     ...   \n",
       "16906          2.0         3.0                        1143.0  6037.0   \n",
       "13577          2.5         4.0                        2297.0  6111.0   \n",
       "13023          2.0         3.0                        1937.0  6059.0   \n",
       "46246          2.0         4.0                        1636.0  6037.0   \n",
       "30622          1.0         2.0                        1170.0  6037.0   \n",
       "\n",
       "         latitude    longitude  regionidcounty  regionidzip  yearbuilt  \\\n",
       "21620  33986883.0 -118337715.0          3101.0      96024.0     1936.0   \n",
       "2407   34047780.0 -117970197.0          3101.0      96490.0     1956.0   \n",
       "51380  34124404.0 -118223851.0          3101.0      96046.0     1937.0   \n",
       "41843  34302133.0 -118754068.0          2061.0      97118.0     2005.0   \n",
       "44774  33906300.0 -118127339.0          3101.0      96208.0     1950.0   \n",
       "...           ...          ...             ...          ...        ...   \n",
       "16906  34205157.0 -118514120.0          3101.0      96415.0     1950.0   \n",
       "13577  34188159.0 -119205314.0          2061.0      97106.0     1969.0   \n",
       "13023  33457060.0 -117639428.0          1286.0      96983.0     1984.0   \n",
       "46246  33989390.0 -117983680.0          3101.0      96489.0     1973.0   \n",
       "30622  33863599.0 -118082803.0          3101.0      96204.0     1947.0   \n",
       "\n",
       "       taxvaluedollarcnt           yhat  \n",
       "21620           264846.0  455947.770099  \n",
       "2407            153579.0  251325.152302  \n",
       "51380           479773.0  334108.604749  \n",
       "41843           634530.0  448620.263748  \n",
       "44774           245376.0  371619.694414  \n",
       "...                  ...            ...  \n",
       "16906            56691.0  277118.858675  \n",
       "13577            82676.0  497038.604550  \n",
       "13023            81767.0  458359.591953  \n",
       "46246           485955.0  334542.036600  \n",
       "30622            49967.0  315162.785024  \n",
       "\n",
       "[24248 rows x 11 columns]"
      ]
     },
     "execution_count": 32,
     "metadata": {},
     "output_type": "execute_result"
    }
   ],
   "source": [
    "from sklearn.linear_model import LinearRegression\n",
    "y = pd.DataFrame(y_train.taxvaluedollarcnt)\n",
    "X = pd.DataFrame(X_train_scaled)\n",
    "# assuming X and y are already defined\n",
    "model = LinearRegression().fit(X, y)\n",
    "train['yhat'] = model.predict(X)\n",
    "train"
   ]
  },
  {
   "cell_type": "code",
   "execution_count": 33,
   "id": "61d77ce2",
   "metadata": {},
   "outputs": [
    {
     "data": {
      "text/html": [
       "<div>\n",
       "<style scoped>\n",
       "    .dataframe tbody tr th:only-of-type {\n",
       "        vertical-align: middle;\n",
       "    }\n",
       "\n",
       "    .dataframe tbody tr th {\n",
       "        vertical-align: top;\n",
       "    }\n",
       "\n",
       "    .dataframe thead th {\n",
       "        text-align: right;\n",
       "    }\n",
       "</style>\n",
       "<table border=\"1\" class=\"dataframe\">\n",
       "  <thead>\n",
       "    <tr style=\"text-align: right;\">\n",
       "      <th></th>\n",
       "      <th>calculatedfinishedsquarefeet</th>\n",
       "      <th>bathroomcnt</th>\n",
       "      <th>bedroomcnt</th>\n",
       "      <th>taxvaluedollarcnt</th>\n",
       "      <th>yhat</th>\n",
       "    </tr>\n",
       "  </thead>\n",
       "  <tbody>\n",
       "    <tr>\n",
       "      <th>21620</th>\n",
       "      <td>1685.0</td>\n",
       "      <td>2.0</td>\n",
       "      <td>2.0</td>\n",
       "      <td>264846.0</td>\n",
       "      <td>455947.770099</td>\n",
       "    </tr>\n",
       "    <tr>\n",
       "      <th>2407</th>\n",
       "      <td>1030.0</td>\n",
       "      <td>2.0</td>\n",
       "      <td>3.0</td>\n",
       "      <td>153579.0</td>\n",
       "      <td>251325.152302</td>\n",
       "    </tr>\n",
       "    <tr>\n",
       "      <th>51380</th>\n",
       "      <td>1253.0</td>\n",
       "      <td>1.0</td>\n",
       "      <td>2.0</td>\n",
       "      <td>479773.0</td>\n",
       "      <td>334108.604749</td>\n",
       "    </tr>\n",
       "    <tr>\n",
       "      <th>41843</th>\n",
       "      <td>2034.0</td>\n",
       "      <td>3.0</td>\n",
       "      <td>4.0</td>\n",
       "      <td>634530.0</td>\n",
       "      <td>448620.263748</td>\n",
       "    </tr>\n",
       "    <tr>\n",
       "      <th>44774</th>\n",
       "      <td>1557.0</td>\n",
       "      <td>2.0</td>\n",
       "      <td>3.0</td>\n",
       "      <td>245376.0</td>\n",
       "      <td>371619.694414</td>\n",
       "    </tr>\n",
       "  </tbody>\n",
       "</table>\n",
       "</div>"
      ],
      "text/plain": [
       "       calculatedfinishedsquarefeet  bathroomcnt  bedroomcnt  \\\n",
       "21620                        1685.0          2.0         2.0   \n",
       "2407                         1030.0          2.0         3.0   \n",
       "51380                        1253.0          1.0         2.0   \n",
       "41843                        2034.0          3.0         4.0   \n",
       "44774                        1557.0          2.0         3.0   \n",
       "\n",
       "       taxvaluedollarcnt           yhat  \n",
       "21620           264846.0  455947.770099  \n",
       "2407            153579.0  251325.152302  \n",
       "51380           479773.0  334108.604749  \n",
       "41843           634530.0  448620.263748  \n",
       "44774           245376.0  371619.694414  "
      ]
     },
     "execution_count": 33,
     "metadata": {},
     "output_type": "execute_result"
    }
   ],
   "source": [
    "df = pd.DataFrame(train[['calculatedfinishedsquarefeet','bathroomcnt','bedroomcnt','taxvaluedollarcnt','yhat']])\n",
    "df.head()"
   ]
  },
  {
   "cell_type": "markdown",
   "id": "b2fe24ba",
   "metadata": {},
   "source": [
    "# Baseline = 384722"
   ]
  },
  {
   "cell_type": "code",
   "execution_count": 34,
   "id": "249713f1",
   "metadata": {},
   "outputs": [],
   "source": [
    "#creating a baseline from the mean of the target variable\n",
    "baseline = y.mean()\n",
    "df['baseline'] = y.taxvaluedollarcnt.mean()\n",
    "# turning baseline to int from float\n",
    "df.baseline = df.baseline.astype(int)\n",
    "# residual = actual - predicted\n",
    "df['residual'] = df.taxvaluedollarcnt - df.yhat\n",
    "df['baseline_residual'] = df.taxvaluedollarcnt - df.baseline"
   ]
  },
  {
   "cell_type": "code",
   "execution_count": 35,
   "id": "2e950849",
   "metadata": {},
   "outputs": [
    {
     "data": {
      "image/png": "[encoded data removed]",
      "text/plain": [
       "<Figure size 792x360 with 2 Axes>"
      ]
     },
     "metadata": {
      "needs_background": "light"
     },
     "output_type": "display_data"
    }
   ],
   "source": [
    "# residual plots (x vs residual)\n",
    "\n",
    "plt.figure(figsize = (11,5))\n",
    "\n",
    "plt.subplot(121)\n",
    "plt.scatter(df.calculatedfinishedsquarefeet, df.baseline_residual)\n",
    "plt.axhline(y = 0, ls = ':', color='red')\n",
    "plt.xlabel('Square Feet')\n",
    "plt.ylabel('Residual')\n",
    "plt.title('Baseline Residuals')\n",
    "\n",
    "plt.subplot(122)\n",
    "plt.scatter(df.calculatedfinishedsquarefeet, df.residual)\n",
    "plt.axhline(y = 0, ls = ':', color ='red')\n",
    "plt.xlabel('Square Feet')\n",
    "plt.ylabel('Residual')\n",
    "plt.title('OLS model residuals');\n"
   ]
  },
  {
   "cell_type": "code",
   "execution_count": 36,
   "id": "9b77b40e",
   "metadata": {},
   "outputs": [
    {
     "data": {
      "image/png": "[encoded data removed]",
      "text/plain": [
       "<Figure size 432x288 with 1 Axes>"
      ]
     },
     "metadata": {
      "needs_background": "light"
     },
     "output_type": "display_data"
    }
   ],
   "source": [
    "y = pd.DataFrame(df.taxvaluedollarcnt)\n",
    "X = pd.DataFrame(df.calculatedfinishedsquarefeet)\n",
    "# look at scatter of x vs y\n",
    "plt.scatter(X, y)\n",
    "plt.xlabel('x = sq ft')\n",
    "plt.ylabel('y = tax value dollar count');"
   ]
  },
  {
   "cell_type": "code",
   "execution_count": 37,
   "id": "f06d02e8",
   "metadata": {},
   "outputs": [
    {
     "data": {
      "image/png": "[encoded data removed]",
      "text/plain": [
       "<Figure size 432x288 with 1 Axes>"
      ]
     },
     "metadata": {
      "needs_background": "light"
     },
     "output_type": "display_data"
    }
   ],
   "source": [
    "# Residual plot (y vs residual)\n",
    "actual = y_train.taxvaluedollarcnt\n",
    "predicted = df.yhat\n",
    "residuals = actual - predicted\n",
    "plt.hlines(0, actual.min(), actual.max(), ls=':')\n",
    "plt.scatter(actual, residuals)\n",
    "plt.ylabel('residual ($y - \\hat{y}$)')\n",
    "plt.xlabel('actual value ($y$)')\n",
    "plt.title('Actual vs Residual')\n",
    "plt.show()\n"
   ]
  },
  {
   "cell_type": "code",
   "execution_count": 38,
   "id": "82128905",
   "metadata": {},
   "outputs": [
    {
     "data": {
      "text/plain": [
       "5.19677996635437e-07"
      ]
     },
     "execution_count": 38,
     "metadata": {},
     "output_type": "execute_result"
    }
   ],
   "source": [
    "# sum of residual is zero\n",
    "df.residual.sum()"
   ]
  },
  {
   "cell_type": "code",
   "execution_count": 39,
   "id": "c27cd385",
   "metadata": {},
   "outputs": [
    {
     "data": {
      "text/plain": [
       "16309.0"
      ]
     },
     "execution_count": 39,
     "metadata": {},
     "output_type": "execute_result"
    }
   ],
   "source": [
    "# sum of baseline residual is zero too\n",
    "df.baseline_residual.sum()"
   ]
  },
  {
   "cell_type": "code",
   "execution_count": 40,
   "id": "b8732d34",
   "metadata": {},
   "outputs": [
    {
     "data": {
      "text/html": [
       "<div>\n",
       "<style scoped>\n",
       "    .dataframe tbody tr th:only-of-type {\n",
       "        vertical-align: middle;\n",
       "    }\n",
       "\n",
       "    .dataframe tbody tr th {\n",
       "        vertical-align: top;\n",
       "    }\n",
       "\n",
       "    .dataframe thead th {\n",
       "        text-align: right;\n",
       "    }\n",
       "</style>\n",
       "<table border=\"1\" class=\"dataframe\">\n",
       "  <thead>\n",
       "    <tr style=\"text-align: right;\">\n",
       "      <th></th>\n",
       "      <th>calculatedfinishedsquarefeet</th>\n",
       "      <th>bathroomcnt</th>\n",
       "      <th>bedroomcnt</th>\n",
       "      <th>taxvaluedollarcnt</th>\n",
       "      <th>yhat</th>\n",
       "      <th>baseline</th>\n",
       "      <th>residual</th>\n",
       "      <th>baseline_residual</th>\n",
       "      <th>residual^2</th>\n",
       "      <th>baseline_residual^2</th>\n",
       "    </tr>\n",
       "  </thead>\n",
       "  <tbody>\n",
       "    <tr>\n",
       "      <th>21620</th>\n",
       "      <td>1685.0</td>\n",
       "      <td>2.0</td>\n",
       "      <td>2.0</td>\n",
       "      <td>264846.0</td>\n",
       "      <td>455947.770099</td>\n",
       "      <td>384722</td>\n",
       "      <td>-191101.770099</td>\n",
       "      <td>-119876.0</td>\n",
       "      <td>3.651989e+10</td>\n",
       "      <td>1.437026e+10</td>\n",
       "    </tr>\n",
       "    <tr>\n",
       "      <th>2407</th>\n",
       "      <td>1030.0</td>\n",
       "      <td>2.0</td>\n",
       "      <td>3.0</td>\n",
       "      <td>153579.0</td>\n",
       "      <td>251325.152302</td>\n",
       "      <td>384722</td>\n",
       "      <td>-97746.152302</td>\n",
       "      <td>-231143.0</td>\n",
       "      <td>9.554310e+09</td>\n",
       "      <td>5.342709e+10</td>\n",
       "    </tr>\n",
       "    <tr>\n",
       "      <th>51380</th>\n",
       "      <td>1253.0</td>\n",
       "      <td>1.0</td>\n",
       "      <td>2.0</td>\n",
       "      <td>479773.0</td>\n",
       "      <td>334108.604749</td>\n",
       "      <td>384722</td>\n",
       "      <td>145664.395251</td>\n",
       "      <td>95051.0</td>\n",
       "      <td>2.121812e+10</td>\n",
       "      <td>9.034693e+09</td>\n",
       "    </tr>\n",
       "    <tr>\n",
       "      <th>41843</th>\n",
       "      <td>2034.0</td>\n",
       "      <td>3.0</td>\n",
       "      <td>4.0</td>\n",
       "      <td>634530.0</td>\n",
       "      <td>448620.263748</td>\n",
       "      <td>384722</td>\n",
       "      <td>185909.736252</td>\n",
       "      <td>249808.0</td>\n",
       "      <td>3.456243e+10</td>\n",
       "      <td>6.240404e+10</td>\n",
       "    </tr>\n",
       "    <tr>\n",
       "      <th>44774</th>\n",
       "      <td>1557.0</td>\n",
       "      <td>2.0</td>\n",
       "      <td>3.0</td>\n",
       "      <td>245376.0</td>\n",
       "      <td>371619.694414</td>\n",
       "      <td>384722</td>\n",
       "      <td>-126243.694414</td>\n",
       "      <td>-139346.0</td>\n",
       "      <td>1.593747e+10</td>\n",
       "      <td>1.941731e+10</td>\n",
       "    </tr>\n",
       "  </tbody>\n",
       "</table>\n",
       "</div>"
      ],
      "text/plain": [
       "       calculatedfinishedsquarefeet  bathroomcnt  bedroomcnt  \\\n",
       "21620                        1685.0          2.0         2.0   \n",
       "2407                         1030.0          2.0         3.0   \n",
       "51380                        1253.0          1.0         2.0   \n",
       "41843                        2034.0          3.0         4.0   \n",
       "44774                        1557.0          2.0         3.0   \n",
       "\n",
       "       taxvaluedollarcnt           yhat  baseline       residual  \\\n",
       "21620           264846.0  455947.770099    384722 -191101.770099   \n",
       "2407            153579.0  251325.152302    384722  -97746.152302   \n",
       "51380           479773.0  334108.604749    384722  145664.395251   \n",
       "41843           634530.0  448620.263748    384722  185909.736252   \n",
       "44774           245376.0  371619.694414    384722 -126243.694414   \n",
       "\n",
       "       baseline_residual    residual^2  baseline_residual^2  \n",
       "21620          -119876.0  3.651989e+10         1.437026e+10  \n",
       "2407           -231143.0  9.554310e+09         5.342709e+10  \n",
       "51380            95051.0  2.121812e+10         9.034693e+09  \n",
       "41843           249808.0  3.456243e+10         6.240404e+10  \n",
       "44774          -139346.0  1.593747e+10         1.941731e+10  "
      ]
     },
     "execution_count": 40,
     "metadata": {},
     "output_type": "execute_result"
    }
   ],
   "source": [
    "df['residual^2'] = df.residual**2\n",
    "df['baseline_residual^2'] = df.baseline_residual**2\n",
    "\n",
    "df.head()"
   ]
  },
  {
   "cell_type": "code",
   "execution_count": 41,
   "id": "99149470",
   "metadata": {},
   "outputs": [
    {
     "name": "stdout",
     "output_type": "stream",
     "text": [
      "SSE = 1527095485999349.5\n",
      "SSE Baseline = 1852720624276517.0\n",
      "SSE is better than baseline\n"
     ]
    }
   ],
   "source": [
    "SSE = df['residual^2'].sum()\n",
    "SSE_baseline = df['baseline_residual^2'].sum()\n",
    "\n",
    "print('SSE =', \"{:.1f}\".format(SSE))\n",
    "print(\"SSE Baseline =\", \"{:.1f}\".format(SSE_baseline))\n",
    "\n",
    "if SSE < SSE_baseline:\n",
    "    print('SSE is better than baseline')\n",
    "else:\n",
    "    print('baseline is better')"
   ]
  },
  {
   "cell_type": "code",
   "execution_count": 42,
   "id": "ef1e7fdc",
   "metadata": {},
   "outputs": [
    {
     "data": {
      "text/plain": [
       "24248"
      ]
     },
     "execution_count": 42,
     "metadata": {},
     "output_type": "execute_result"
    }
   ],
   "source": [
    "len(df)\n",
    "df.shape[0]"
   ]
  },
  {
   "cell_type": "code",
   "execution_count": 43,
   "id": "341a5f5a",
   "metadata": {},
   "outputs": [
    {
     "name": "stdout",
     "output_type": "stream",
     "text": [
      "MSE =  62978203810.6\n",
      "MSE baseline =  76407152106.4\n",
      "MSE is better than baseline\n"
     ]
    }
   ],
   "source": [
    "MSE = SSE/len(df)\n",
    "MSE_baseline = SSE_baseline/len(df)\n",
    "\n",
    "print(\"MSE = \", \"{:.1f}\".format(MSE))\n",
    "print(\"MSE baseline = \", \"{:.1f}\".format(MSE_baseline))\n",
    "\n",
    "if MSE < MSE_baseline:\n",
    "    print('MSE is better than baseline')\n",
    "else:\n",
    "    print('baseline is better')"
   ]
  },
  {
   "cell_type": "code",
   "execution_count": 44,
   "id": "89bea074",
   "metadata": {},
   "outputs": [
    {
     "name": "stdout",
     "output_type": "stream",
     "text": [
      "RMSE is better than baseline\n",
      "RMSE =  250954.6\n",
      "RMSE baseline =  276418.4\n"
     ]
    }
   ],
   "source": [
    "from math import sqrt\n",
    "RMSE = sqrt(MSE)\n",
    "RMSE_baseline =  sqrt(MSE_baseline)\n",
    "\n",
    "if RMSE < RMSE_baseline:\n",
    "    print('RMSE is better than baseline')\n",
    "else:\n",
    "    print('baseline is better')\n",
    "    \n",
    "print(\"RMSE = \", \"{:.1f}\".format(RMSE))\n",
    "print(\"RMSE baseline = \", \"{:.1f}\".format(RMSE_baseline))"
   ]
  },
  {
   "cell_type": "markdown",
   "id": "3895a3b6",
   "metadata": {},
   "source": [
    "### Take away 276,XXX RMSE baseline  which beats the initial baseline of 384,722"
   ]
  },
  {
   "cell_type": "code",
   "execution_count": 46,
   "id": "3d1189e4",
   "metadata": {},
   "outputs": [
    {
     "name": "stdout",
     "output_type": "stream",
     "text": [
      "OLS regression model performs better than the baseline\n"
     ]
    }
   ],
   "source": [
    "if SSE < SSE_baseline:\n",
    "    print('OLS regression model performs better than the baseline')\n",
    "else:\n",
    "    print('OLS regression model performs worse than the baseline')"
   ]
  },
  {
   "cell_type": "code",
   "execution_count": 47,
   "id": "333dc637",
   "metadata": {},
   "outputs": [
    {
     "name": "stdout",
     "output_type": "stream",
     "text": [
      "Explained Variance =  0.176\n"
     ]
    }
   ],
   "source": [
    "# sklearn.metrics.explained_variance_score\n",
    "\n",
    "evs = explained_variance_score(df.taxvaluedollarcnt, df.yhat)\n",
    "print('Explained Variance = ', round(evs,3))\n"
   ]
  },
  {
   "cell_type": "code",
   "execution_count": 48,
   "id": "c00888d4",
   "metadata": {},
   "outputs": [
    {
     "data": {
      "text/plain": [
       "0.17575512141517924"
      ]
     },
     "execution_count": 48,
     "metadata": {},
     "output_type": "execute_result"
    }
   ],
   "source": [
    "# calculate R2 the easy way:\n",
    "from sklearn.metrics import r2_score\n",
    "r2_score(df.taxvaluedollarcnt, df.yhat)"
   ]
  },
  {
   "cell_type": "code",
   "execution_count": 49,
   "id": "41244ef8",
   "metadata": {},
   "outputs": [
    {
     "name": "stdout",
     "output_type": "stream",
     "text": [
      "                            OLS Regression Results                            \n",
      "==============================================================================\n",
      "Dep. Variable:      taxvaluedollarcnt   R-squared:                       0.161\n",
      "Model:                            OLS   Adj. R-squared:                  0.161\n",
      "Method:                 Least Squares   F-statistic:                     4646.\n",
      "Date:                Thu, 09 Jun 2022   Prob (F-statistic):               0.00\n",
      "Time:                        04:09:53   Log-Likelihood:            -3.3610e+05\n",
      "No. Observations:               24248   AIC:                         6.722e+05\n",
      "Df Residuals:                   24246   BIC:                         6.722e+05\n",
      "Df Model:                           1                                         \n",
      "Covariance Type:            nonrobust                                         \n",
      "================================================================================================\n",
      "                                   coef    std err          t      P>|t|      [0.025      0.975]\n",
      "------------------------------------------------------------------------------------------------\n",
      "const                          4.65e+04   5221.811      8.906      0.000    3.63e+04    5.67e+04\n",
      "calculatedfinishedsquarefeet   204.9537      3.007     68.160      0.000     199.060     210.848\n",
      "==============================================================================\n",
      "Omnibus:                     5052.273   Durbin-Watson:                   2.014\n",
      "Prob(Omnibus):                  0.000   Jarque-Bera (JB):            12218.840\n",
      "Skew:                           1.162   Prob(JB):                         0.00\n",
      "Kurtosis:                       5.588   Cond. No.                     5.58e+03\n",
      "==============================================================================\n",
      "\n",
      "Notes:\n",
      "[1] Standard Errors assume that the covariance matrix of the errors is correctly specified.\n",
      "[2] The condition number is large, 5.58e+03. This might indicate that there are\n",
      "strong multicollinearity or other numerical problems.\n"
     ]
    }
   ],
   "source": [
    "X2 = sm.add_constant(df.calculatedfinishedsquarefeet)\n",
    "est = sm.OLS(df.taxvaluedollarcnt, X2)\n",
    "est2 = est.fit()\n",
    "print(est2.summary())"
   ]
  },
  {
   "cell_type": "code",
   "execution_count": 50,
   "id": "839d7e28",
   "metadata": {
    "scrolled": true
   },
   "outputs": [
    {
     "data": {
      "text/plain": [
       "SSE     1.527095e+15\n",
       "ESS     3.256251e+14\n",
       "TSS     1.852721e+15\n",
       "MSE     6.297820e+10\n",
       "RMSE    2.509546e+05\n",
       "dtype: float64"
      ]
     },
     "execution_count": 50,
     "metadata": {},
     "output_type": "execute_result"
    }
   ],
   "source": [
    "prepare.regression_errors(actual, predicted)"
   ]
  },
  {
   "cell_type": "code",
   "execution_count": 51,
   "id": "d18ca686",
   "metadata": {},
   "outputs": [
    {
     "data": {
      "text/plain": [
       "True"
      ]
     },
     "execution_count": 51,
     "metadata": {},
     "output_type": "execute_result"
    }
   ],
   "source": [
    "prepare.better_than_baseline(actual, predicted)"
   ]
  },
  {
   "cell_type": "code",
   "execution_count": 52,
   "id": "cffd4fe7",
   "metadata": {},
   "outputs": [
    {
     "data": {
      "text/plain": [
       "{'SSE': 1852720624265547.5,\n",
       " 'MSE': 76407152105.96947,\n",
       " 'RMSE': 276418.43662456644}"
      ]
     },
     "execution_count": 52,
     "metadata": {},
     "output_type": "execute_result"
    }
   ],
   "source": [
    "prepare.baseline_mean_errors(actual)"
   ]
  },
  {
   "cell_type": "markdown",
   "id": "63185c72",
   "metadata": {},
   "source": [
    "# Evaluate\n",
    "\n",
    "### Can we visualize the better predictive models?"
   ]
  },
  {
   "cell_type": "code",
   "execution_count": 53,
   "id": "5266bcff",
   "metadata": {},
   "outputs": [
    {
     "data": {
      "image/png": "[encoded data removed]",
      "text/plain": [
       "<Figure size 1152x576 with 1 Axes>"
      ]
     },
     "metadata": {
      "needs_background": "light"
     },
     "output_type": "display_data"
    }
   ],
   "source": [
    "def actual_vs_predicted():\n",
    "    # plot to visualize actual vs predicted. \n",
    "    plt.figure(figsize=(16,8))\n",
    "    plt.hist(y_validate.taxvaluedollarcnt, color='blue', alpha=.5, label=\"Actual Final taxvaluedollarcnt\")\n",
    "    plt.hist(y_validate.taxvaluedollarcnt_pred_lm, color='red', alpha=.5, label=\"Model: LinearRegression\")\n",
    "    plt.hist(y_validate.taxvaluedollarcnt_pred_glm, color='yellow', alpha=.5, label=\"Model: TweedieRegressor\")\n",
    "    plt.hist(y_validate.taxvaluedollarcnt_pred_lm2, color='green', alpha=.5, label=\"Model 2nd degree Polynomial\")\n",
    "    plt.xlabel(\"Final taxvaluedollarcnt (taxvaluedollarcnt)\")\n",
    "    plt.ylabel(\"predicted taxvalue\")\n",
    "    plt.title(\"Comparing the Distribution of Actual taxvaluedollarcnt to Distributions of Predicted taxvaluedollarcnt for the Top Models\")\n",
    "    plt.legend()\n",
    "    plt.show()\n",
    "actual_vs_predicted()"
   ]
  },
  {
   "cell_type": "markdown",
   "id": "3884b504",
   "metadata": {},
   "source": [
    "### Take away\n",
    "- We can see here that the LinearRegression model seems to be the best fit for predicting"
   ]
  },
  {
   "cell_type": "code",
   "execution_count": 54,
   "id": "c1b0defa",
   "metadata": {},
   "outputs": [
    {
     "data": {
      "text/html": [
       "<div>\n",
       "<style scoped>\n",
       "    .dataframe tbody tr th:only-of-type {\n",
       "        vertical-align: middle;\n",
       "    }\n",
       "\n",
       "    .dataframe tbody tr th {\n",
       "        vertical-align: top;\n",
       "    }\n",
       "\n",
       "    .dataframe thead th {\n",
       "        text-align: right;\n",
       "    }\n",
       "</style>\n",
       "<table border=\"1\" class=\"dataframe\">\n",
       "  <thead>\n",
       "    <tr style=\"text-align: right;\">\n",
       "      <th></th>\n",
       "      <th>taxvaluedollarcnt</th>\n",
       "      <th>taxvaluedollarcnt_pred_mean</th>\n",
       "      <th>taxvaluedollarcnt_pred_median</th>\n",
       "      <th>taxvaluedollarcnt_pred_lm</th>\n",
       "      <th>lm_residuals</th>\n",
       "      <th>taxvaluedollarcnt_pred_lars</th>\n",
       "      <th>lars_residuals</th>\n",
       "      <th>taxvaluedollarcnt_pred_glm</th>\n",
       "      <th>glm_residuals</th>\n",
       "      <th>taxvaluedollarcnt_pred_lm2</th>\n",
       "      <th>poly_residuals</th>\n",
       "    </tr>\n",
       "  </thead>\n",
       "  <tbody>\n",
       "    <tr>\n",
       "      <th>21620</th>\n",
       "      <td>264846.0</td>\n",
       "      <td>384722.672592</td>\n",
       "      <td>337405.0</td>\n",
       "      <td>455947.770099</td>\n",
       "      <td>191101.770099</td>\n",
       "      <td>455335.887474</td>\n",
       "      <td>190489.887474</td>\n",
       "      <td>435015.529951</td>\n",
       "      <td>170169.529951</td>\n",
       "      <td>451170.650359</td>\n",
       "      <td>186324.650359</td>\n",
       "    </tr>\n",
       "    <tr>\n",
       "      <th>2407</th>\n",
       "      <td>153579.0</td>\n",
       "      <td>384722.672592</td>\n",
       "      <td>337405.0</td>\n",
       "      <td>251325.152302</td>\n",
       "      <td>97746.152302</td>\n",
       "      <td>251526.241591</td>\n",
       "      <td>97947.241591</td>\n",
       "      <td>271298.539003</td>\n",
       "      <td>117719.539003</td>\n",
       "      <td>251686.714350</td>\n",
       "      <td>98107.714350</td>\n",
       "    </tr>\n",
       "    <tr>\n",
       "      <th>51380</th>\n",
       "      <td>479773.0</td>\n",
       "      <td>384722.672592</td>\n",
       "      <td>337405.0</td>\n",
       "      <td>334108.604749</td>\n",
       "      <td>-145664.395251</td>\n",
       "      <td>333979.575199</td>\n",
       "      <td>-145793.424801</td>\n",
       "      <td>319697.897135</td>\n",
       "      <td>-160075.102865</td>\n",
       "      <td>328086.586744</td>\n",
       "      <td>-151686.413256</td>\n",
       "    </tr>\n",
       "    <tr>\n",
       "      <th>41843</th>\n",
       "      <td>634530.0</td>\n",
       "      <td>384722.672592</td>\n",
       "      <td>337405.0</td>\n",
       "      <td>448620.263748</td>\n",
       "      <td>-185909.736252</td>\n",
       "      <td>448608.335677</td>\n",
       "      <td>-185921.664323</td>\n",
       "      <td>438389.516539</td>\n",
       "      <td>-196140.483461</td>\n",
       "      <td>445107.647639</td>\n",
       "      <td>-189422.352361</td>\n",
       "    </tr>\n",
       "    <tr>\n",
       "      <th>44774</th>\n",
       "      <td>245376.0</td>\n",
       "      <td>384722.672592</td>\n",
       "      <td>337405.0</td>\n",
       "      <td>371619.694414</td>\n",
       "      <td>126243.694414</td>\n",
       "      <td>371587.505157</td>\n",
       "      <td>126211.505157</td>\n",
       "      <td>357751.582165</td>\n",
       "      <td>112375.582165</td>\n",
       "      <td>358147.611100</td>\n",
       "      <td>112771.611100</td>\n",
       "    </tr>\n",
       "    <tr>\n",
       "      <th>...</th>\n",
       "      <td>...</td>\n",
       "      <td>...</td>\n",
       "      <td>...</td>\n",
       "      <td>...</td>\n",
       "      <td>...</td>\n",
       "      <td>...</td>\n",
       "      <td>...</td>\n",
       "      <td>...</td>\n",
       "      <td>...</td>\n",
       "      <td>...</td>\n",
       "      <td>...</td>\n",
       "    </tr>\n",
       "    <tr>\n",
       "      <th>16906</th>\n",
       "      <td>56691.0</td>\n",
       "      <td>384722.672592</td>\n",
       "      <td>337405.0</td>\n",
       "      <td>277118.858675</td>\n",
       "      <td>220427.858675</td>\n",
       "      <td>277269.928086</td>\n",
       "      <td>220578.928086</td>\n",
       "      <td>287876.862597</td>\n",
       "      <td>231185.862597</td>\n",
       "      <td>273713.133245</td>\n",
       "      <td>217022.133245</td>\n",
       "    </tr>\n",
       "    <tr>\n",
       "      <th>13577</th>\n",
       "      <td>82676.0</td>\n",
       "      <td>384722.672592</td>\n",
       "      <td>337405.0</td>\n",
       "      <td>497038.604550</td>\n",
       "      <td>414362.604550</td>\n",
       "      <td>497056.071850</td>\n",
       "      <td>414380.071850</td>\n",
       "      <td>483247.672766</td>\n",
       "      <td>400571.672766</td>\n",
       "      <td>486118.286556</td>\n",
       "      <td>403442.286556</td>\n",
       "    </tr>\n",
       "    <tr>\n",
       "      <th>13023</th>\n",
       "      <td>81767.0</td>\n",
       "      <td>384722.672592</td>\n",
       "      <td>337405.0</td>\n",
       "      <td>458359.591953</td>\n",
       "      <td>376592.591953</td>\n",
       "      <td>458159.194255</td>\n",
       "      <td>376392.194255</td>\n",
       "      <td>436722.711458</td>\n",
       "      <td>354955.711458</td>\n",
       "      <td>440814.283683</td>\n",
       "      <td>359047.283683</td>\n",
       "    </tr>\n",
       "    <tr>\n",
       "      <th>46246</th>\n",
       "      <td>485955.0</td>\n",
       "      <td>384722.672592</td>\n",
       "      <td>337405.0</td>\n",
       "      <td>334542.036600</td>\n",
       "      <td>-151412.963400</td>\n",
       "      <td>334997.911374</td>\n",
       "      <td>-150957.088626</td>\n",
       "      <td>327978.794964</td>\n",
       "      <td>-157976.205036</td>\n",
       "      <td>331527.503318</td>\n",
       "      <td>-154427.496682</td>\n",
       "    </tr>\n",
       "    <tr>\n",
       "      <th>30622</th>\n",
       "      <td>49967.0</td>\n",
       "      <td>384722.672592</td>\n",
       "      <td>337405.0</td>\n",
       "      <td>315162.785024</td>\n",
       "      <td>265195.785024</td>\n",
       "      <td>315070.495738</td>\n",
       "      <td>265103.495738</td>\n",
       "      <td>306068.917486</td>\n",
       "      <td>256101.917486</td>\n",
       "      <td>312229.013279</td>\n",
       "      <td>262262.013279</td>\n",
       "    </tr>\n",
       "  </tbody>\n",
       "</table>\n",
       "<p>24248 rows × 11 columns</p>\n",
       "</div>"
      ],
      "text/plain": [
       "       taxvaluedollarcnt  taxvaluedollarcnt_pred_mean  \\\n",
       "21620           264846.0                384722.672592   \n",
       "2407            153579.0                384722.672592   \n",
       "51380           479773.0                384722.672592   \n",
       "41843           634530.0                384722.672592   \n",
       "44774           245376.0                384722.672592   \n",
       "...                  ...                          ...   \n",
       "16906            56691.0                384722.672592   \n",
       "13577            82676.0                384722.672592   \n",
       "13023            81767.0                384722.672592   \n",
       "46246           485955.0                384722.672592   \n",
       "30622            49967.0                384722.672592   \n",
       "\n",
       "       taxvaluedollarcnt_pred_median  taxvaluedollarcnt_pred_lm  \\\n",
       "21620                       337405.0              455947.770099   \n",
       "2407                        337405.0              251325.152302   \n",
       "51380                       337405.0              334108.604749   \n",
       "41843                       337405.0              448620.263748   \n",
       "44774                       337405.0              371619.694414   \n",
       "...                              ...                        ...   \n",
       "16906                       337405.0              277118.858675   \n",
       "13577                       337405.0              497038.604550   \n",
       "13023                       337405.0              458359.591953   \n",
       "46246                       337405.0              334542.036600   \n",
       "30622                       337405.0              315162.785024   \n",
       "\n",
       "        lm_residuals  taxvaluedollarcnt_pred_lars  lars_residuals  \\\n",
       "21620  191101.770099                455335.887474   190489.887474   \n",
       "2407    97746.152302                251526.241591    97947.241591   \n",
       "51380 -145664.395251                333979.575199  -145793.424801   \n",
       "41843 -185909.736252                448608.335677  -185921.664323   \n",
       "44774  126243.694414                371587.505157   126211.505157   \n",
       "...              ...                          ...             ...   \n",
       "16906  220427.858675                277269.928086   220578.928086   \n",
       "13577  414362.604550                497056.071850   414380.071850   \n",
       "13023  376592.591953                458159.194255   376392.194255   \n",
       "46246 -151412.963400                334997.911374  -150957.088626   \n",
       "30622  265195.785024                315070.495738   265103.495738   \n",
       "\n",
       "       taxvaluedollarcnt_pred_glm  glm_residuals  taxvaluedollarcnt_pred_lm2  \\\n",
       "21620               435015.529951  170169.529951               451170.650359   \n",
       "2407                271298.539003  117719.539003               251686.714350   \n",
       "51380               319697.897135 -160075.102865               328086.586744   \n",
       "41843               438389.516539 -196140.483461               445107.647639   \n",
       "44774               357751.582165  112375.582165               358147.611100   \n",
       "...                           ...            ...                         ...   \n",
       "16906               287876.862597  231185.862597               273713.133245   \n",
       "13577               483247.672766  400571.672766               486118.286556   \n",
       "13023               436722.711458  354955.711458               440814.283683   \n",
       "46246               327978.794964 -157976.205036               331527.503318   \n",
       "30622               306068.917486  256101.917486               312229.013279   \n",
       "\n",
       "       poly_residuals  \n",
       "21620   186324.650359  \n",
       "2407     98107.714350  \n",
       "51380  -151686.413256  \n",
       "41843  -189422.352361  \n",
       "44774   112771.611100  \n",
       "...               ...  \n",
       "16906   217022.133245  \n",
       "13577   403442.286556  \n",
       "13023   359047.283683  \n",
       "46246  -154427.496682  \n",
       "30622   262262.013279  \n",
       "\n",
       "[24248 rows x 11 columns]"
      ]
     },
     "execution_count": 54,
     "metadata": {},
     "output_type": "execute_result"
    }
   ],
   "source": [
    "y_train"
   ]
  },
  {
   "cell_type": "markdown",
   "id": "99fae478",
   "metadata": {},
   "source": [
    "# Testing"
   ]
  },
  {
   "cell_type": "code",
   "execution_count": 55,
   "id": "abdbe2bb",
   "metadata": {},
   "outputs": [],
   "source": [
    "metric_df = pd.DataFrame(data=[{\n",
    "    'model': 'mean_baseline', \n",
    "    'RMSE_validate': rmse_validate,\n",
    "        'r^2_validate': explained_variance_score(y_validate.taxvaluedollarcnt, y_validate.taxvaluedollarcnt_pred_mean)}])"
   ]
  },
  {
   "cell_type": "code",
   "execution_count": 56,
   "id": "66c93166",
   "metadata": {},
   "outputs": [],
   "source": [
    "metric_df = metric_df.append({\n",
    "    'model': 'OLS Regressor', \n",
    "    'RMSE_validate': rmse_validate_lm,\n",
    "    'r^2_validate': explained_variance_score(y_validate.taxvaluedollarcnt, y_validate.taxvaluedollarcnt_pred_lm)}, ignore_index=True)"
   ]
  },
  {
   "cell_type": "code",
   "execution_count": 57,
   "id": "de81f32a",
   "metadata": {},
   "outputs": [],
   "source": [
    "metric_df = metric_df.append({\n",
    "    'model': 'Lasso alpha 1', \n",
    "    'RMSE_validate': rmse_validate_lars,\n",
    "    'r^2_validate': explained_variance_score(y_validate.taxvaluedollarcnt, y_validate.taxvaluedollarcnt_pred_lars)}, ignore_index=True)"
   ]
  },
  {
   "cell_type": "code",
   "execution_count": 58,
   "id": "b0869edf",
   "metadata": {},
   "outputs": [],
   "source": [
    "metric_df = metric_df.append({\n",
    "    'model': 'GLS (Poisson)', \n",
    "    'RMSE_validate': rmse_validate_glm,\n",
    "    'r^2_validate': explained_variance_score(y_validate.taxvaluedollarcnt, y_validate.taxvaluedollarcnt_pred_glm)}, ignore_index=True)"
   ]
  },
  {
   "cell_type": "code",
   "execution_count": 59,
   "id": "f92960a1",
   "metadata": {},
   "outputs": [],
   "source": [
    "metric_df = metric_df.append({\n",
    "    'model': 'Quadratic Model', \n",
    "    'RMSE_validate': rmse_validate_lm2,\n",
    "    'r^2_validate': explained_variance_score(y_validate.taxvaluedollarcnt, y_validate.taxvaluedollarcnt_pred_lm2)}, ignore_index=True)"
   ]
  },
  {
   "cell_type": "code",
   "execution_count": 60,
   "id": "a3d0c13c",
   "metadata": {},
   "outputs": [
    {
     "data": {
      "text/html": [
       "<div>\n",
       "<style scoped>\n",
       "    .dataframe tbody tr th:only-of-type {\n",
       "        vertical-align: middle;\n",
       "    }\n",
       "\n",
       "    .dataframe tbody tr th {\n",
       "        vertical-align: top;\n",
       "    }\n",
       "\n",
       "    .dataframe thead th {\n",
       "        text-align: right;\n",
       "    }\n",
       "</style>\n",
       "<table border=\"1\" class=\"dataframe\">\n",
       "  <thead>\n",
       "    <tr style=\"text-align: right;\">\n",
       "      <th></th>\n",
       "      <th>model</th>\n",
       "      <th>RMSE_validate</th>\n",
       "      <th>r^2_validate</th>\n",
       "    </tr>\n",
       "  </thead>\n",
       "  <tbody>\n",
       "    <tr>\n",
       "      <th>0</th>\n",
       "      <td>mean_baseline</td>\n",
       "      <td>281425.871596</td>\n",
       "      <td>0.000000</td>\n",
       "    </tr>\n",
       "    <tr>\n",
       "      <th>1</th>\n",
       "      <td>OLS Regressor</td>\n",
       "      <td>254020.865949</td>\n",
       "      <td>0.160231</td>\n",
       "    </tr>\n",
       "    <tr>\n",
       "      <th>2</th>\n",
       "      <td>Lasso alpha 1</td>\n",
       "      <td>254020.750241</td>\n",
       "      <td>0.160232</td>\n",
       "    </tr>\n",
       "    <tr>\n",
       "      <th>3</th>\n",
       "      <td>GLS (Poisson)</td>\n",
       "      <td>254229.363409</td>\n",
       "      <td>0.158831</td>\n",
       "    </tr>\n",
       "    <tr>\n",
       "      <th>4</th>\n",
       "      <td>Quadratic Model</td>\n",
       "      <td>253932.754702</td>\n",
       "      <td>0.160794</td>\n",
       "    </tr>\n",
       "  </tbody>\n",
       "</table>\n",
       "</div>"
      ],
      "text/plain": [
       "             model  RMSE_validate  r^2_validate\n",
       "0    mean_baseline  281425.871596      0.000000\n",
       "1    OLS Regressor  254020.865949      0.160231\n",
       "2    Lasso alpha 1  254020.750241      0.160232\n",
       "3    GLS (Poisson)  254229.363409      0.158831\n",
       "4  Quadratic Model  253932.754702      0.160794"
      ]
     },
     "execution_count": 60,
     "metadata": {},
     "output_type": "execute_result"
    }
   ],
   "source": [
    "metric_df   "
   ]
  },
  {
   "cell_type": "markdown",
   "id": "967234e1",
   "metadata": {},
   "source": [
    "### takeaway\n",
    "- linear regression model did the best"
   ]
  },
  {
   "cell_type": "code",
   "execution_count": 62,
   "id": "df8908a0",
   "metadata": {},
   "outputs": [
    {
     "name": "stdout",
     "output_type": "stream",
     "text": [
      "RMSE for OLS Model using LinearRegression\n",
      "Out-of-Sample Performance:  253915.38250029655\n"
     ]
    }
   ],
   "source": [
    "y_test = pd.DataFrame(y_test)\n",
    "\n",
    "# predict on test\n",
    "y_test['taxvaluedollarcnt_pred_LINEAR'] = lm.predict(X_test_scaled)\n",
    "\n",
    "# evaluate: rmse\n",
    "rmse_test_lm = mean_squared_error(y_test.taxvaluedollarcnt, y_test.taxvaluedollarcnt_pred_LINEAR)**(1/2)\n",
    "\n",
    "print(\"RMSE for OLS Model using LinearRegression\\nOut-of-Sample Performance: \", rmse_test_lm)\n"
   ]
  },
  {
   "cell_type": "code",
   "execution_count": 63,
   "id": "19363454",
   "metadata": {},
   "outputs": [
    {
     "name": "stdout",
     "output_type": "stream",
     "text": [
      "RMSE for OLS Model using Lasso\n",
      "Out-of-Sample Performance:  253918.8063731711\n"
     ]
    }
   ],
   "source": [
    "y_test = pd.DataFrame(y_test)\n",
    "\n",
    "# predict on test\n",
    "y_test['taxvaluedollarcnt_pred_RMSE'] = lars.predict(X_test_scaled)\n",
    "\n",
    "# evaluate: rmse\n",
    "rmse_test_lars = mean_squared_error(y_test.taxvaluedollarcnt, y_test.taxvaluedollarcnt_pred_RMSE)**(1/2)\n",
    "\n",
    "print(\"RMSE for OLS Model using Lasso\\nOut-of-Sample Performance: \", rmse_test_lars)\n"
   ]
  },
  {
   "cell_type": "code",
   "execution_count": 65,
   "id": "65c6ea80",
   "metadata": {},
   "outputs": [
    {
     "name": "stdout",
     "output_type": "stream",
     "text": [
      "\n",
      "RMSE for Polynomial Regressor, degrees=2:\n",
      "    \n",
      "Test/Out-of-Sample Performance: 253649.04210148362\n",
      "\n"
     ]
    }
   ],
   "source": [
    "y_test = pd.DataFrame(y_test)\n",
    "\n",
    "#predict on test\n",
    "y_test['pred_Poly'] = lm2.predict(X_test_degree2)\n",
    "\n",
    "# evaluate: rmse\n",
    "rmse_test = mean_squared_error(y_test.taxvaluedollarcnt, y_test.pred_Poly)**(0.5)\n",
    "\n",
    "print(f\"\"\"\n",
    "RMSE for Polynomial Regressor, degrees=2:\n",
    "    \n",
    "Test/Out-of-Sample Performance: {rmse_test}\n",
    "\"\"\")"
   ]
  },
  {
   "cell_type": "code",
   "execution_count": 66,
   "id": "e93d415b",
   "metadata": {},
   "outputs": [
    {
     "data": {
      "text/html": [
       "<div>\n",
       "<style scoped>\n",
       "    .dataframe tbody tr th:only-of-type {\n",
       "        vertical-align: middle;\n",
       "    }\n",
       "\n",
       "    .dataframe tbody tr th {\n",
       "        vertical-align: top;\n",
       "    }\n",
       "\n",
       "    .dataframe thead th {\n",
       "        text-align: right;\n",
       "    }\n",
       "</style>\n",
       "<table border=\"1\" class=\"dataframe\">\n",
       "  <thead>\n",
       "    <tr style=\"text-align: right;\">\n",
       "      <th></th>\n",
       "      <th>taxvaluedollarcnt</th>\n",
       "      <th>taxvaluedollarcnt_pred_LINEAR</th>\n",
       "      <th>taxvaluedollarcnt_pred_RMSE</th>\n",
       "      <th>pred_Poly</th>\n",
       "    </tr>\n",
       "  </thead>\n",
       "  <tbody>\n",
       "    <tr>\n",
       "      <th>42751</th>\n",
       "      <td>520519.0</td>\n",
       "      <td>637393.672338</td>\n",
       "      <td>637015.669583</td>\n",
       "      <td>651595.754259</td>\n",
       "    </tr>\n",
       "    <tr>\n",
       "      <th>21269</th>\n",
       "      <td>460811.0</td>\n",
       "      <td>317749.652785</td>\n",
       "      <td>317821.929822</td>\n",
       "      <td>309296.566246</td>\n",
       "    </tr>\n",
       "    <tr>\n",
       "      <th>25934</th>\n",
       "      <td>472963.0</td>\n",
       "      <td>378239.318174</td>\n",
       "      <td>378194.291956</td>\n",
       "      <td>364282.085912</td>\n",
       "    </tr>\n",
       "    <tr>\n",
       "      <th>47293</th>\n",
       "      <td>408687.0</td>\n",
       "      <td>346510.776706</td>\n",
       "      <td>346527.279365</td>\n",
       "      <td>335140.728040</td>\n",
       "    </tr>\n",
       "    <tr>\n",
       "      <th>50195</th>\n",
       "      <td>329291.0</td>\n",
       "      <td>404717.813212</td>\n",
       "      <td>404621.439155</td>\n",
       "      <td>389107.998238</td>\n",
       "    </tr>\n",
       "    <tr>\n",
       "      <th>...</th>\n",
       "      <td>...</td>\n",
       "      <td>...</td>\n",
       "      <td>...</td>\n",
       "      <td>...</td>\n",
       "    </tr>\n",
       "    <tr>\n",
       "      <th>47199</th>\n",
       "      <td>757000.0</td>\n",
       "      <td>538810.713101</td>\n",
       "      <td>538747.174758</td>\n",
       "      <td>529305.759848</td>\n",
       "    </tr>\n",
       "    <tr>\n",
       "      <th>50411</th>\n",
       "      <td>130016.0</td>\n",
       "      <td>583980.156486</td>\n",
       "      <td>583705.734717</td>\n",
       "      <td>590793.800585</td>\n",
       "    </tr>\n",
       "    <tr>\n",
       "      <th>46797</th>\n",
       "      <td>551000.0</td>\n",
       "      <td>450142.127975</td>\n",
       "      <td>449957.665814</td>\n",
       "      <td>432770.649838</td>\n",
       "    </tr>\n",
       "    <tr>\n",
       "      <th>13963</th>\n",
       "      <td>160633.0</td>\n",
       "      <td>227182.503127</td>\n",
       "      <td>227676.989669</td>\n",
       "      <td>248583.451383</td>\n",
       "    </tr>\n",
       "    <tr>\n",
       "      <th>20767</th>\n",
       "      <td>185000.0</td>\n",
       "      <td>194183.454247</td>\n",
       "      <td>194325.771470</td>\n",
       "      <td>216532.982152</td>\n",
       "    </tr>\n",
       "  </tbody>\n",
       "</table>\n",
       "<p>8661 rows × 4 columns</p>\n",
       "</div>"
      ],
      "text/plain": [
       "       taxvaluedollarcnt  taxvaluedollarcnt_pred_LINEAR  \\\n",
       "42751           520519.0                  637393.672338   \n",
       "21269           460811.0                  317749.652785   \n",
       "25934           472963.0                  378239.318174   \n",
       "47293           408687.0                  346510.776706   \n",
       "50195           329291.0                  404717.813212   \n",
       "...                  ...                            ...   \n",
       "47199           757000.0                  538810.713101   \n",
       "50411           130016.0                  583980.156486   \n",
       "46797           551000.0                  450142.127975   \n",
       "13963           160633.0                  227182.503127   \n",
       "20767           185000.0                  194183.454247   \n",
       "\n",
       "       taxvaluedollarcnt_pred_RMSE      pred_Poly  \n",
       "42751                637015.669583  651595.754259  \n",
       "21269                317821.929822  309296.566246  \n",
       "25934                378194.291956  364282.085912  \n",
       "47293                346527.279365  335140.728040  \n",
       "50195                404621.439155  389107.998238  \n",
       "...                            ...            ...  \n",
       "47199                538747.174758  529305.759848  \n",
       "50411                583705.734717  590793.800585  \n",
       "46797                449957.665814  432770.649838  \n",
       "13963                227676.989669  248583.451383  \n",
       "20767                194325.771470  216532.982152  \n",
       "\n",
       "[8661 rows x 4 columns]"
      ]
     },
     "execution_count": 66,
     "metadata": {},
     "output_type": "execute_result"
    }
   ],
   "source": [
    "y_test"
   ]
  },
  {
   "cell_type": "markdown",
   "id": "adf41c67",
   "metadata": {},
   "source": [
    "### Take aways\n",
    "- LinearRegression predictor seems to be the closest and the winner in this case for predicting price."
   ]
  },
  {
   "cell_type": "code",
   "execution_count": 70,
   "id": "df0c3a9c",
   "metadata": {},
   "outputs": [
    {
     "data": {
      "text/plain": [
       "<AxesSubplot:>"
      ]
     },
     "execution_count": 70,
     "metadata": {},
     "output_type": "execute_result"
    },
    {
     "data": {
      "image/png": "[encoded data removed]",
      "text/plain": [
       "<Figure size 432x288 with 1 Axes>"
      ]
     },
     "metadata": {
      "needs_background": "light"
     },
     "output_type": "display_data"
    }
   ],
   "source": [
    "sns.scatterplot(data = y_test)"
   ]
  },
  {
   "cell_type": "markdown",
   "id": "553b96c8",
   "metadata": {},
   "source": [
    "*** "
   ]
  },
  {
   "cell_type": "markdown",
   "id": "67d571ad",
   "metadata": {},
   "source": [
    "# Conclusion\n",
    "\n",
    "### Major drivers of the house prices:\n",
    "    \n",
    "    calculatedfinishedsquarefeet,bedroomcnt, & bathroomcnt sit at the top as far as drivers of churn.It is a good idea to coniseder that the counties of ventura, Los Angeles, and Orange all have a wide range of homes that can be estimated up to 3 million dollars.The more bedrooms, bathrooms and living squarefeet a home has, the bigger the impact it will have on its price.\n",
    "\n",
    "\n",
    "### Recommendations for the future:\n",
    "    \n",
    "    My recomendation to the zillow team, for future referance and for more accurate predictions; If I can be given more time to explore the data further so that we may be able to improve our predictions. By identifying more factors that drive home prices, we will increase our likelyhood that our predcition model will be more accurate. \n",
    "    \n"
   ]
  },
  {
   "cell_type": "code",
   "execution_count": null,
   "id": "a94882b0",
   "metadata": {},
   "outputs": [],
   "source": []
  }
 ],
 "metadata": {
  "kernelspec": {
   "display_name": "Python 3 (ipykernel)",
   "language": "python",
   "name": "python3"
  },
  "language_info": {
   "codemirror_mode": {
    "name": "ipython",
    "version": 3
   },
   "file_extension": ".py",
   "mimetype": "text/x-python",
   "name": "python",
   "nbconvert_exporter": "python",
   "pygments_lexer": "ipython3",
   "version": "3.9.7"
  }
 },
 "nbformat": 4,
 "nbformat_minor": 5
}
